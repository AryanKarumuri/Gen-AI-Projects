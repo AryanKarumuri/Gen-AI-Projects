{
 "cells": [
  {
   "cell_type": "markdown",
   "id": "c23c1b2f",
   "metadata": {},
   "source": [
    "# MultiQueryRetriever in LangChain\n",
    "\n",
    "`MultiQueryRetriever` allows you to execute multiple queries on a single retriever, combining results for more comprehensive document retrieval.\n",
    "\n",
    "### Use Cases:\n",
    "- **Broader Querying**: Retrieve more data by breaking a query into sub-queries.\n",
    "- **Query Variability**: Get results for multiple variations of a query.\n",
    "- **Complementary Results**: Combine results from multiple queries for a fuller response.\n",
    "\n",
    "### Key Features:\n",
    "- Executes several queries sequentially or in parallel.\n",
    "- Combines results from multiple queries.\n",
    "- Increases efficiency when retrieving diverse information.\n",
    "\n",
    "### Advantages\n",
    "\n",
    "- **Flexibility**: Handle different angles of a topic with multiple queries.  \n",
    "- **Enhanced Retrieval**: Capture more comprehensive results.  \n",
    "- **Performance**: Optimized retrieval for multiple queries.  \n",
    "\n",
    "### Considerations\n",
    "\n",
    "- **Query Management**: Complex logic needed for combining results.  \n",
    "- **Redundancy**: Handle overlapping results between queries.  \n"
   ]
  },
  {
   "cell_type": "markdown",
   "id": "5b43369e",
   "metadata": {},
   "source": [
    "### Step-1: Required Package Installation\n",
    "\n",
    "These dependencies will set up a complete environment."
   ]
  },
  {
   "cell_type": "code",
   "execution_count": null,
   "id": "25eebfeb",
   "metadata": {},
   "outputs": [],
   "source": [
    "!pip install langchain langchain-ollama langchain-chroma langchain-community langchain-text-splitters\n"
   ]
  },
  {
   "cell_type": "markdown",
   "id": "d4a9dfcc",
   "metadata": {},
   "source": [
    "### Step-2: Imports\n",
    "These imports set up an environment for out tryout."
   ]
  },
  {
   "cell_type": "code",
   "execution_count": 2,
   "id": "725d80d2",
   "metadata": {},
   "outputs": [
    {
     "name": "stderr",
     "output_type": "stream",
     "text": [
      "USER_AGENT environment variable not set, consider setting it to identify your requests.\n"
     ]
    }
   ],
   "source": [
    "from langchain_ollama import ChatOllama, OllamaEmbeddings\n",
    "from langchain_chroma import Chroma\n",
    "from langchain.retrievers.multi_query import MultiQueryRetriever\n",
    "from langchain_community.document_loaders import WebBaseLoader\n",
    "from langchain_text_splitters import RecursiveCharacterTextSplitter"
   ]
  },
  {
   "cell_type": "markdown",
   "id": "ffe423b5",
   "metadata": {},
   "source": [
    "### Step-3: Configuration\n",
    "\n",
    "Set the Ollama server URL and model names for chat and embeddings."
   ]
  },
  {
   "cell_type": "code",
   "execution_count": null,
   "id": "db350ad0",
   "metadata": {},
   "outputs": [],
   "source": [
    "OLLAMA_URL = \"\" # Replace with your Ollama server URL\n",
    "DEFAULT_MODEL = \"llama3.1:8b\"\n",
    "EMBED_MODEL = \"snowflake-arctic-embed2:latest\""
   ]
  },
  {
   "cell_type": "markdown",
   "id": "fa137072",
   "metadata": {},
   "source": [
    "### Step-4: Loading & Splitting\n",
    "The following code loads a blog post from the web, then splits the content into manageable text chunks for embedding or retrieval."
   ]
  },
  {
   "cell_type": "code",
   "execution_count": 5,
   "id": "4bd56d01",
   "metadata": {},
   "outputs": [],
   "source": [
    "loader = WebBaseLoader(\"https://lilianweng.github.io/posts/2023-06-23-agent/\")\n",
    "data = loader.load()\n",
    "text_splitter = RecursiveCharacterTextSplitter(chunk_size=500, chunk_overlap=0)\n",
    "splits = text_splitter.split_documents(data)"
   ]
  },
  {
   "cell_type": "markdown",
   "id": "a99c694e",
   "metadata": {},
   "source": [
    "### Step-5: Create Embeddings and Vector Store\n",
    "The following code generates embeddings for the text chunks and stores them in a Chroma vector database."
   ]
  },
  {
   "cell_type": "code",
   "execution_count": 6,
   "id": "4636be76",
   "metadata": {},
   "outputs": [],
   "source": [
    "embeddings = OllamaEmbeddings(model=EMBED_MODEL, base_url=OLLAMA_URL)\n",
    "vectordb = Chroma.from_documents(documents=splits, embedding=embeddings)"
   ]
  },
  {
   "cell_type": "markdown",
   "id": "cb1b3bc5",
   "metadata": {},
   "source": [
    "### Step-6: Initialize Language Model (LLM)\n",
    "Setting up the chat-based LLM using Ollama."
   ]
  },
  {
   "cell_type": "code",
   "execution_count": 7,
   "id": "5621149d",
   "metadata": {},
   "outputs": [],
   "source": [
    "llm = ChatOllama(model=DEFAULT_MODEL, base_url=OLLAMA_URL)"
   ]
  },
  {
   "cell_type": "markdown",
   "id": "af16a119",
   "metadata": {},
   "source": [
    "### Step-7: Create MultiQuery Retriever\n",
    "\n",
    "Setting up a `MultiQueryRetriever` that uses an LLM to generate multiple query variations and retrieve relevant documents. This improves the quality and diversity of retrieved results by capturing different interpretations of the input query."
   ]
  },
  {
   "cell_type": "code",
   "execution_count": 8,
   "id": "df4bec69",
   "metadata": {},
   "outputs": [],
   "source": [
    "retriever = MultiQueryRetriever.from_llm(retriever=vectordb.as_retriever(), llm=llm)"
   ]
  },
  {
   "cell_type": "markdown",
   "id": "95e53223",
   "metadata": {},
   "source": [
    "### Step-8: Running a Query with MultiQueryRetriever\n",
    "\n",
    "Use the retriever to find relevant information based on multiple reformulated versions of the query.\n"
   ]
  },
  {
   "cell_type": "code",
   "execution_count": 9,
   "id": "40146c82",
   "metadata": {},
   "outputs": [],
   "source": [
    "query = \"What are the approaches to Task Decomposition?\""
   ]
  },
  {
   "cell_type": "markdown",
   "id": "86dc42c9",
   "metadata": {},
   "source": [
    "### Step-9: Generate Multiple Query Variations"
   ]
  },
  {
   "cell_type": "code",
   "execution_count": 10,
   "id": "ad9a7732",
   "metadata": {},
   "outputs": [],
   "source": [
    "generated_queries = retriever.llm_chain.invoke({\"question\": query})\n",
    "queries = generated_queries"
   ]
  },
  {
   "cell_type": "code",
   "execution_count": 11,
   "id": "344ef3cc",
   "metadata": {},
   "outputs": [
    {
     "name": "stdout",
     "output_type": "stream",
     "text": [
      "🔍 Reformulated Queries:\n",
      "- Here are three different versions of the original question to retrieve relevant documents from a vector database:\n",
      "- What are the methods for breaking down complex tasks into smaller, manageable subtasks?\n",
      "- Can you provide information on task decomposition techniques and their applications in various domains?\n",
      "- What are the strategies used to divide complex tasks into more organized and structured components?\n"
     ]
    }
   ],
   "source": [
    "print(\"🔍 Reformulated Queries:\")\n",
    "for q in queries:\n",
    "    print(\"-\", q)"
   ]
  },
  {
   "cell_type": "code",
   "execution_count": 12,
   "id": "95240162",
   "metadata": {},
   "outputs": [
    {
     "name": "stdout",
     "output_type": "stream",
     "text": [
      "\n",
      "📄 Retrieved 20 documents.\n",
      "\n",
      "--- Document 1 ---\n",
      "to API search engine to find the right API to call and then uses the corresponding documentation to make a call.\n",
      "\n",
      "--- Document 2 ---\n",
      "[11] Nakano et al. “Webgpt: Browser-assisted question-answering with human feedback.” arXiv preprint arXiv:2112.09332 (2021).\n",
      "[12] Parisi et al. “TALM: Tool Augmented Language Models”\n",
      "[13] Schick et al. “Toolformer: Language Models Can Teach Themselves to Use Tools.” arXiv preprint arXiv:2302.04761 (2023).\n",
      "[14] Weaviate Blog. Why is Vector Search so fast? Sep 13, 2022.\n",
      "[15] Li et al. “API-Bank: A Benchmark for Tool-Augmented LLMs” arXiv preprint arXiv:2304.08244 (2023).\n",
      "\n",
      "--- Document 3 ---\n",
      "Maximum Inner Product Search (MIPS)#\n",
      "The external memory can alleviate the restriction of finite attention span.  A standard practice is to save the embedding representation of information into a vector store database that can support fast maximum inner-product search (MIPS). To optimize the retrieval speed, the common choice is the approximate nearest neighbors (ANN)​ algorithm to return approximately top k nearest neighbors to trade off a little accuracy lost for a huge speedup.\n",
      "\n"
     ]
    }
   ],
   "source": [
    "retrieved_docs = retriever.invoke(query)\n",
    "print(f\"\\n📄 Retrieved {len(retrieved_docs)} documents.\\n\")\n",
    "\n",
    "\n",
    "for i, doc in enumerate(retrieved_docs[:3]):\n",
    "    print(f\"--- Document {i+1} ---\")\n",
    "    print(doc.page_content[:500])\n",
    "    print()"
   ]
  }
 ],
 "metadata": {
  "kernelspec": {
   "display_name": "msme",
   "language": "python",
   "name": "python3"
  },
  "language_info": {
   "codemirror_mode": {
    "name": "ipython",
    "version": 3
   },
   "file_extension": ".py",
   "mimetype": "text/x-python",
   "name": "python",
   "nbconvert_exporter": "python",
   "pygments_lexer": "ipython3",
   "version": "3.13.7"
  }
 },
 "nbformat": 4,
 "nbformat_minor": 5
}
