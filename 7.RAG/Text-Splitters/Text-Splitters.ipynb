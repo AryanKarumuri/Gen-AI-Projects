{
 "cells": [
  {
   "cell_type": "raw",
   "id": "2a6b9568-e277-45f5-bbce-2bbd56a43639",
   "metadata": {},
   "source": [
    "🚀Done by 👨‍💻Aryan Karumuri:)"
   ]
  },
  {
   "cell_type": "markdown",
   "id": "30671a13-7004-4415-baa0-edaa863958ce",
   "metadata": {},
   "source": [
    "## What is this notebook about? \n",
    "\n",
    "This notebook gives an overview about the types of text splitting. One of the most effective strategies to enhance the performance of your language model applications is to divide large datasets into smaller, more manageable chunks. This process, known as splitting or chunking, can significantly improve efficiency. In the context of multi-modal models, this approach also extends to images, where dividing them into smaller sections can optimize processing."
   ]
  },
  {
   "cell_type": "markdown",
   "id": "6debd291-14d4-4613-a89d-8435fa09ddd0",
   "metadata": {},
   "source": [
    "## Types of Text Splitters\n",
    "\n",
    "* **Type-1: [Character Splitting](#CharacterSplitting)** – Breaking text into basic character chunks.\n",
    "* **Type-2: [Recursive Character Text Splitting](#RecursiveCharacterSplitting)** – Chunking text recursively using a set of separators.\n",
    "* **Type-3: [Code-Specific Splitting](#CodeSpecific)** – Different chunking methods for specific programming languages (e.g., Markdown, Python, JavaScript).\n",
    "* **Type-4: [Token Splitting](#TokenSplitting)** - Splitting on token count explicity."
   ]
  },
  {
   "cell_type": "markdown",
   "id": "3df71602-5b1d-48a8-b52a-803b38c2f543",
   "metadata": {},
   "source": [
    "## Required Packages\n",
    "\n",
    "The following package(s) needs to be installed for the experiments:\n",
    "\n",
    "- **Langchain**"
   ]
  },
  {
   "cell_type": "markdown",
   "id": "ea513e29-eb2d-4c70-9848-628eef90be54",
   "metadata": {},
   "source": [
    "## Setup"
   ]
  },
  {
   "cell_type": "code",
   "execution_count": null,
   "id": "d4cc7604-d046-41a3-b5a0-99b6983ac751",
   "metadata": {},
   "outputs": [],
   "source": [
    "!pip install langchain"
   ]
  },
  {
   "cell_type": "markdown",
   "id": "4e0ff6f4-8e93-45d5-b0e1-abc3ab353859",
   "metadata": {},
   "source": [
    "## Type-1: Character Splitting <a id=\"CharacterSplitting\"></a>\n",
    "\n",
    "Character splitting is the most basic way to break up text. It involves dividing the text into chunks of a fixed number of characters, regardless of the content or structure.\n",
    "While this method isn't ideal for most applications, it's a good starting point to understand the basics of text splitting.\n",
    "\n",
    "### Pros:\n",
    "- Simple and easy to implement.\n",
    "\n",
    "### Cons:\n",
    "- Rigid; doesn't consider the structure or meaning of the text.\n",
    "\n",
    "### Concepts to Know:\n",
    "- **Chunk Size**: The number of characters in each chunk (e.g., 50, 100, 500, 1000).\n",
    "- **Chunk Overlap**: The amount of overlap between consecutive chunks. This helps avoid splitting important context across chunks, though it may create some duplicate data."
   ]
  },
  {
   "cell_type": "code",
   "execution_count": 4,
   "id": "cfbe0cef-d92d-4f4f-b196-50dc775874a6",
   "metadata": {},
   "outputs": [],
   "source": [
    "# Sample Text\n",
    "sample_text = \"Hey! Welcome to the tutorial of text splitter. Feeling excited to play with these:)\""
   ]
  },
  {
   "cell_type": "code",
   "execution_count": 13,
   "id": "40d92172-f68d-4458-b249-21b838ca5187",
   "metadata": {},
   "outputs": [],
   "source": [
    "#import CharacterTextSplitter\n",
    "from langchain.text_splitter import CharacterTextSplitter\n",
    "\n",
    "text_splitter = CharacterTextSplitter(chunk_size = 25, chunk_overlap=0, strip_whitespace=False)"
   ]
  },
  {
   "cell_type": "code",
   "execution_count": 14,
   "id": "ddb42645-a412-4fca-b36d-fff69f071999",
   "metadata": {},
   "outputs": [
    {
     "data": {
      "text/plain": [
       "[Document(metadata={}, page_content='H'),\n",
       " Document(metadata={}, page_content='e'),\n",
       " Document(metadata={}, page_content='y'),\n",
       " Document(metadata={}, page_content='!'),\n",
       " Document(metadata={}, page_content=' '),\n",
       " Document(metadata={}, page_content='W'),\n",
       " Document(metadata={}, page_content='e'),\n",
       " Document(metadata={}, page_content='l'),\n",
       " Document(metadata={}, page_content='c'),\n",
       " Document(metadata={}, page_content='o'),\n",
       " Document(metadata={}, page_content='m'),\n",
       " Document(metadata={}, page_content='e'),\n",
       " Document(metadata={}, page_content=' '),\n",
       " Document(metadata={}, page_content='t'),\n",
       " Document(metadata={}, page_content='o'),\n",
       " Document(metadata={}, page_content=' '),\n",
       " Document(metadata={}, page_content='t'),\n",
       " Document(metadata={}, page_content='h'),\n",
       " Document(metadata={}, page_content='e'),\n",
       " Document(metadata={}, page_content=' '),\n",
       " Document(metadata={}, page_content='t'),\n",
       " Document(metadata={}, page_content='u'),\n",
       " Document(metadata={}, page_content='t'),\n",
       " Document(metadata={}, page_content='o'),\n",
       " Document(metadata={}, page_content='r'),\n",
       " Document(metadata={}, page_content='i'),\n",
       " Document(metadata={}, page_content='a'),\n",
       " Document(metadata={}, page_content='l'),\n",
       " Document(metadata={}, page_content=' '),\n",
       " Document(metadata={}, page_content='o'),\n",
       " Document(metadata={}, page_content='f'),\n",
       " Document(metadata={}, page_content=' '),\n",
       " Document(metadata={}, page_content='t'),\n",
       " Document(metadata={}, page_content='e'),\n",
       " Document(metadata={}, page_content='x'),\n",
       " Document(metadata={}, page_content='t'),\n",
       " Document(metadata={}, page_content=' '),\n",
       " Document(metadata={}, page_content='s'),\n",
       " Document(metadata={}, page_content='p'),\n",
       " Document(metadata={}, page_content='l'),\n",
       " Document(metadata={}, page_content='i'),\n",
       " Document(metadata={}, page_content='t'),\n",
       " Document(metadata={}, page_content='t'),\n",
       " Document(metadata={}, page_content='e'),\n",
       " Document(metadata={}, page_content='r'),\n",
       " Document(metadata={}, page_content='.'),\n",
       " Document(metadata={}, page_content=' '),\n",
       " Document(metadata={}, page_content='F'),\n",
       " Document(metadata={}, page_content='e'),\n",
       " Document(metadata={}, page_content='e'),\n",
       " Document(metadata={}, page_content='l'),\n",
       " Document(metadata={}, page_content='i'),\n",
       " Document(metadata={}, page_content='n'),\n",
       " Document(metadata={}, page_content='g'),\n",
       " Document(metadata={}, page_content=' '),\n",
       " Document(metadata={}, page_content='e'),\n",
       " Document(metadata={}, page_content='x'),\n",
       " Document(metadata={}, page_content='c'),\n",
       " Document(metadata={}, page_content='i'),\n",
       " Document(metadata={}, page_content='t'),\n",
       " Document(metadata={}, page_content='e'),\n",
       " Document(metadata={}, page_content='d'),\n",
       " Document(metadata={}, page_content=' '),\n",
       " Document(metadata={}, page_content='t'),\n",
       " Document(metadata={}, page_content='o'),\n",
       " Document(metadata={}, page_content=' '),\n",
       " Document(metadata={}, page_content='p'),\n",
       " Document(metadata={}, page_content='l'),\n",
       " Document(metadata={}, page_content='a'),\n",
       " Document(metadata={}, page_content='y'),\n",
       " Document(metadata={}, page_content=' '),\n",
       " Document(metadata={}, page_content='w'),\n",
       " Document(metadata={}, page_content='i'),\n",
       " Document(metadata={}, page_content='t'),\n",
       " Document(metadata={}, page_content='h'),\n",
       " Document(metadata={}, page_content=' '),\n",
       " Document(metadata={}, page_content='t'),\n",
       " Document(metadata={}, page_content='h'),\n",
       " Document(metadata={}, page_content='e'),\n",
       " Document(metadata={}, page_content='s'),\n",
       " Document(metadata={}, page_content='e'),\n",
       " Document(metadata={}, page_content=':'),\n",
       " Document(metadata={}, page_content=')')]"
      ]
     },
     "execution_count": 14,
     "metadata": {},
     "output_type": "execute_result"
    }
   ],
   "source": [
    "text_splitter.create_documents(sample_text)"
   ]
  },
  {
   "cell_type": "code",
   "execution_count": 15,
   "id": "88171cf6-677c-4934-9e68-d89fcbf4d53f",
   "metadata": {},
   "outputs": [
    {
     "data": {
      "text/plain": [
       "[Document(metadata={}, page_content='Hey! Welcome to the tutorial of text splitter. Feeling excited to play with these:)')]"
      ]
     },
     "execution_count": 15,
     "metadata": {},
     "output_type": "execute_result"
    }
   ],
   "source": [
    "text_splitter.create_documents([sample_text])"
   ]
  },
  {
   "cell_type": "code",
   "execution_count": 28,
   "id": "c49bb507-ab85-4851-979a-f83c1a0501d6",
   "metadata": {},
   "outputs": [],
   "source": [
    "# Let's reduce the chunck size along with the separator\n",
    "text_splitter = CharacterTextSplitter(chunk_size = 16, chunk_overlap=0, separator='',strip_whitespace=False)"
   ]
  },
  {
   "cell_type": "code",
   "execution_count": 29,
   "id": "6e11d768-0f37-45aa-bb85-879bebfd7809",
   "metadata": {},
   "outputs": [
    {
     "data": {
      "text/plain": [
       "[Document(metadata={}, page_content='Hey! Welcome to '),\n",
       " Document(metadata={}, page_content='the tutorial of '),\n",
       " Document(metadata={}, page_content='text splitter. F'),\n",
       " Document(metadata={}, page_content='eeling excited t'),\n",
       " Document(metadata={}, page_content='o play with thes'),\n",
       " Document(metadata={}, page_content='e:)')]"
      ]
     },
     "execution_count": 29,
     "metadata": {},
     "output_type": "execute_result"
    }
   ],
   "source": [
    "text_splitter.create_documents([sample_text])"
   ]
  },
  {
   "cell_type": "markdown",
   "id": "0014a57c-49b7-413b-b195-d0e98bd2667c",
   "metadata": {},
   "source": [
    "### Chunk Overlap"
   ]
  },
  {
   "cell_type": "markdown",
   "id": "95c70c64-7306-46e0-a5c1-f1402f49c8d5",
   "metadata": {},
   "source": [
    "**Chunk overlap** ensures that consecutive chunks share part of their content. The tail of **Chunk #1** will overlap with the head of **Chunk #2**, and so on.\n",
    "\n",
    "For example, with an overlap value of 5, the last 5 characters of each chunk will appear at the beginning of the next chunk."
   ]
  },
  {
   "cell_type": "code",
   "execution_count": 34,
   "id": "5c335248-8227-465f-9d1f-3060c1b5c272",
   "metadata": {},
   "outputs": [],
   "source": [
    "# Let's switch on the chunk_overlap parameter and see\n",
    "text_splitter = CharacterTextSplitter(chunk_size = 35, chunk_overlap=5, separator='')"
   ]
  },
  {
   "cell_type": "code",
   "execution_count": 35,
   "id": "8ea29485-0d08-4888-afdd-beab6355c0d2",
   "metadata": {},
   "outputs": [
    {
     "data": {
      "text/plain": [
       "[Document(metadata={}, page_content='Hey! Welcome to the tutorial of tex'),\n",
       " Document(metadata={}, page_content='f text splitter. Feeling excited to'),\n",
       " Document(metadata={}, page_content='ed to play with these:)')]"
      ]
     },
     "execution_count": 35,
     "metadata": {},
     "output_type": "execute_result"
    }
   ],
   "source": [
    "text_splitter.create_documents([sample_text])"
   ]
  },
  {
   "cell_type": "markdown",
   "id": "a18e32f2-bf9c-4845-b12e-c1bedac717ea",
   "metadata": {},
   "source": [
    "### Separators"
   ]
  },
  {
   "cell_type": "markdown",
   "id": "728cbf0b-2a7e-4af4-8bdf-bf54029a0ef9",
   "metadata": {},
   "source": [
    "**Separators** are character(s) sequences you would like to split on.\n",
    "\n",
    "Say you wanted to chunk your data at `te`, you can specify it."
   ]
  },
  {
   "cell_type": "code",
   "execution_count": 36,
   "id": "23715d4f-78fa-4426-8616-e8bfbb17a1f2",
   "metadata": {},
   "outputs": [],
   "source": [
    "text_splitter = CharacterTextSplitter(chunk_size = 35, chunk_overlap=5, separator='te')"
   ]
  },
  {
   "cell_type": "code",
   "execution_count": 37,
   "id": "0b204b47-1224-4e5e-8c35-8c2f7dd9eb08",
   "metadata": {},
   "outputs": [
    {
     "data": {
      "text/plain": [
       "[Document(metadata={}, page_content='Hey! Welcome to the tutorial of'),\n",
       " Document(metadata={}, page_content='xt splitter. Feeling exci'),\n",
       " Document(metadata={}, page_content='d to play with these:)')]"
      ]
     },
     "execution_count": 37,
     "metadata": {},
     "output_type": "execute_result"
    }
   ],
   "source": [
    "text_splitter.create_documents([sample_text])"
   ]
  },
  {
   "cell_type": "markdown",
   "id": "89ba5af3-707b-473a-9ba5-a4fd0d5cd089",
   "metadata": {},
   "source": [
    "## Type-2: Recursive Character Text Splitting <a id=\"RecursiveCharacterSplitting\"></a>\n",
    "\n",
    "The problem with type-1 is that, it don't take into account the structure of our document at all. We simply split by a fixed number of characters.\n",
    "\n",
    "With [**Recursive Character Text Splitter**](https://api.python.langchain.com/en/latest/character/langchain_text_splitters.character.RecursiveCharacterTextSplitter.html), one can specify a series of separators, and the text will be split based on those, preserving the document's structure."
   ]
  },
  {
   "cell_type": "markdown",
   "id": "cb8c154c-2d09-47a9-8971-d193613aaa8a",
   "metadata": {},
   "source": [
    "Default separators supported by langchain are:\n",
    "* \"\\n\\n\" - Double new line, or most commonly paragraph breaks\n",
    "* \"\\n\" - New lines\n",
    "* \" \" - Spaces\n",
    "* \"\" - Characters\n",
    "\n",
    "Note: period (\".\") isn't supported as of now. This may be included in future. Not sure🙃 "
   ]
  },
  {
   "cell_type": "code",
   "execution_count": 39,
   "id": "0f5ee94a-9d24-442e-a7d9-c7a3f11e9d99",
   "metadata": {},
   "outputs": [],
   "source": [
    "# Sample Text(Probably a bigger one)\n",
    "sample_text2=\"\"\"\n",
    "A small bird, lost in a storm, found shelter in an old tree. The next morning, the sun peeked through the leaves, and the bird sang the sweetest song, thanking the tree for its kindness. From that day on, they both shared the sky, each offering the other comfort in silence.\n",
    "\"\"\""
   ]
  },
  {
   "cell_type": "code",
   "execution_count": 43,
   "id": "c2922e1f-9090-43cc-9cc4-ba949f17a721",
   "metadata": {},
   "outputs": [],
   "source": [
    "# import RecursiveCharacterTextSplitter\n",
    "from langchain.text_splitter import RecursiveCharacterTextSplitter\n",
    "\n",
    "# Text Splitter\n",
    "text_splitter = RecursiveCharacterTextSplitter(chunk_size = 65, chunk_overlap=0)"
   ]
  },
  {
   "cell_type": "code",
   "execution_count": 45,
   "id": "bfad4bb0-53a3-438d-873b-5aca3dd23ac1",
   "metadata": {},
   "outputs": [
    {
     "data": {
      "text/plain": [
       "[Document(metadata={}, page_content='A small bird, lost in a storm, found shelter in an old tree. The'),\n",
       " Document(metadata={}, page_content='next morning, the sun peeked through the leaves, and the bird'),\n",
       " Document(metadata={}, page_content='sang the sweetest song, thanking the tree for its kindness. From'),\n",
       " Document(metadata={}, page_content='that day on, they both shared the sky, each offering the other'),\n",
       " Document(metadata={}, page_content='comfort in silence.')]"
      ]
     },
     "execution_count": 45,
     "metadata": {},
     "output_type": "execute_result"
    }
   ],
   "source": [
    "text_splitter.create_documents([sample_text2])"
   ]
  },
  {
   "cell_type": "code",
   "execution_count": 47,
   "id": "4f77a67d-65f8-43b8-8fae-8944eab2d64d",
   "metadata": {},
   "outputs": [
    {
     "data": {
      "text/plain": [
       "[Document(metadata={}, page_content='A small bird, lost in a storm, found shelter in an old tree. The next morning, the sun peeked through the leaves, and the bird sang'),\n",
       " Document(metadata={}, page_content='the sweetest song, thanking the tree for its kindness. From that day on, they both shared the sky, each offering the other comfort'),\n",
       " Document(metadata={}, page_content='in silence.')]"
      ]
     },
     "execution_count": 47,
     "metadata": {},
     "output_type": "execute_result"
    }
   ],
   "source": [
    "text_splitter = RecursiveCharacterTextSplitter(chunk_size = 132, chunk_overlap=0)\n",
    "text_splitter.create_documents([sample_text2])"
   ]
  },
  {
   "cell_type": "markdown",
   "id": "3d5fa657-379b-4cc1-b968-ab3548e752e3",
   "metadata": {},
   "source": [
    "- The RecursiveCharacterTextSplitter splits the text intelligently into smaller, more meaningful chunks (e.g., preserving sentence breaks), which makes it better suited for maintaining content structure in large texts.\n",
    "-  This is because this splitter provides some flexibility, allowing your chunks to \"snap\" to the nearest separator, ensuring more natural breaks in the text."
   ]
  },
  {
   "cell_type": "markdown",
   "id": "cce2ab48-8d7d-4e00-8156-c6f51a1f896d",
   "metadata": {},
   "source": [
    "## Type-3: Code Specific Splitting <a id=\"CodeSpecific\"></a>\n",
    "\n",
    "- The `RecursiveCharacterTextSplitter` includes pre-built lists of separators that are tailored to help split text according to common structures, such as those found in specific programming languages, ensuring logical and meaningful breaks in the text.\n",
    "- Programming Languages supported by langchain are [Click here to know🤩](https://python.langchain.com/api_reference/text_splitters/base/langchain_text_splitters.base.Language.html)\n",
    "- Here are some of the separators:\n",
    "\n",
    "        * `\\n#{1,6}` - Split by new lines followed by a header (H1 through H6)\n",
    "        * ```` ```\\n ```` - Code blocks\n",
    "        * `\\n\\\\*\\\\*\\\\*+\\n` - Horizontal Lines\n",
    "        * `\\n---+\\n` - Horizontal Lines\n",
    "        * `\\n___+\\n` - Horizontal Lines\n",
    "        * `\\n\\n` Double new lines\n",
    "        * `\\n` - New line\n",
    "        * `\" \"` - Spaces\n",
    "        * `\"\"` - Character"
   ]
  },
  {
   "cell_type": "markdown",
   "id": "a5f34745-26d8-4821-92fd-e7562b41a6dd",
   "metadata": {},
   "source": [
    "- ### Markdown Text"
   ]
  },
  {
   "cell_type": "code",
   "execution_count": 52,
   "id": "046e3820-3e72-4148-abf5-893bb90ca257",
   "metadata": {},
   "outputs": [],
   "source": [
    "# Markdown Text\n",
    "\n",
    "markdown_text=\"\"\"\n",
    "# Weekend Getaway to the Mountains\n",
    "\n",
    "### Skiing\n",
    "\n",
    "Hit the slopes early for the best snow conditions.\n",
    "\n",
    "### Snowboarding\n",
    "\n",
    "If you're into snowboarding, the trails here are perfect.\n",
    "\n",
    "## Accommodation\n",
    "\n",
    "Stay at the mountain lodge for a cozy experience with amazing views.\n",
    "\n",
    "## Dining\n",
    "\n",
    "### Breakfast\n",
    "\n",
    "Don't miss the pancakes at the local diner.\n",
    "\n",
    "### Dinner\n",
    "\n",
    "The mountain grill offers delicious steaks and a warm fireplace.\n",
    "\"\"\""
   ]
  },
  {
   "cell_type": "code",
   "execution_count": 53,
   "id": "56da8a06-6317-4238-82dc-c3c4db354dbf",
   "metadata": {},
   "outputs": [],
   "source": [
    "# import MarkdownTextSplitter\n",
    "from langchain.text_splitter import MarkdownTextSplitter\n",
    "\n",
    "#splitter\n",
    "splitter = MarkdownTextSplitter(chunk_size = 40, chunk_overlap=0)"
   ]
  },
  {
   "cell_type": "code",
   "execution_count": 54,
   "id": "ac69979f-f06b-43d9-b397-18a1022e9a34",
   "metadata": {},
   "outputs": [
    {
     "data": {
      "text/plain": [
       "[Document(metadata={}, page_content='# Weekend Getaway to the Mountains'),\n",
       " Document(metadata={}, page_content='### Skiing'),\n",
       " Document(metadata={}, page_content='Hit the slopes early for the best snow'),\n",
       " Document(metadata={}, page_content='conditions.'),\n",
       " Document(metadata={}, page_content='### Snowboarding'),\n",
       " Document(metadata={}, page_content=\"If you're into snowboarding, the trails\"),\n",
       " Document(metadata={}, page_content='here are perfect.'),\n",
       " Document(metadata={}, page_content='## Accommodation'),\n",
       " Document(metadata={}, page_content='Stay at the mountain lodge for a cozy'),\n",
       " Document(metadata={}, page_content='experience with amazing views.'),\n",
       " Document(metadata={}, page_content='## Dining\\n\\n### Breakfast'),\n",
       " Document(metadata={}, page_content=\"Don't miss the pancakes at the local\"),\n",
       " Document(metadata={}, page_content='diner.'),\n",
       " Document(metadata={}, page_content='### Dinner'),\n",
       " Document(metadata={}, page_content='The mountain grill offers delicious'),\n",
       " Document(metadata={}, page_content='steaks and a warm fireplace.')]"
      ]
     },
     "execution_count": 54,
     "metadata": {},
     "output_type": "execute_result"
    }
   ],
   "source": [
    "splitter.create_documents([markdown_text])"
   ]
  },
  {
   "cell_type": "markdown",
   "id": "618ec6da-3346-4b0f-9d2e-1c6f6973895f",
   "metadata": {},
   "source": [
    "- Notice how the splits tend to follow the markdown sections. However, it's not always perfect. For example, there's a chunk with just the word \"conditions.\", \"diner.\" in it. This can happen when the chunk size is too small."
   ]
  },
  {
   "cell_type": "code",
   "execution_count": 56,
   "id": "9d0a825f-4cf5-4848-b636-0469bb6d932c",
   "metadata": {},
   "outputs": [
    {
     "data": {
      "text/plain": [
       "[Document(metadata={}, page_content='# Weekend Getaway to the Mountains\\n\\n### Skiing'),\n",
       " Document(metadata={}, page_content='Hit the slopes early for the best snow conditions.\\n\\n### Snowboarding'),\n",
       " Document(metadata={}, page_content=\"If you're into snowboarding, the trails here are perfect.\"),\n",
       " Document(metadata={}, page_content='## Accommodation'),\n",
       " Document(metadata={}, page_content='Stay at the mountain lodge for a cozy experience with amazing views.'),\n",
       " Document(metadata={}, page_content=\"## Dining\\n\\n### Breakfast\\n\\nDon't miss the pancakes at the local diner.\"),\n",
       " Document(metadata={}, page_content='### Dinner'),\n",
       " Document(metadata={}, page_content='The mountain grill offers delicious steaks and a warm fireplace.')]"
      ]
     },
     "execution_count": 56,
     "metadata": {},
     "output_type": "execute_result"
    }
   ],
   "source": [
    "splitter = MarkdownTextSplitter(chunk_size = 75, chunk_overlap=0)\n",
    "\n",
    "splitter.create_documents([markdown_text])"
   ]
  },
  {
   "cell_type": "markdown",
   "id": "1d3b765d-9c75-46b9-9105-a15e8ca9aacd",
   "metadata": {},
   "source": [
    "- See, now the chunck size has been increased to '75' and observe the output above ^^^"
   ]
  },
  {
   "cell_type": "markdown",
   "id": "af0d504b-e6d4-4984-995f-8a27ef3f2f6b",
   "metadata": {},
   "source": [
    "- ### Python\n",
    "\n",
    "Below are the python splitters:\n",
    "\n",
    "    * `\\nclass` - Classes first\n",
    "    * `\\ndef` - Functions next\n",
    "    * `\\n\\tdef` - Indented functions\n",
    "    * `\\n\\n` - Double New lines\n",
    "    * `\\n` - New Lines\n",
    "    * `\" \"` - Spaces\n",
    "    * `\"\"` - Characters"
   ]
  },
  {
   "cell_type": "code",
   "execution_count": 57,
   "id": "4d37f95b-6cf4-4761-8ed0-d773f2897981",
   "metadata": {},
   "outputs": [],
   "source": [
    "# Python Code\n",
    "\n",
    "python_text = \"\"\"\n",
    "class Animal:\n",
    "  def __init__(self, species, sound):\n",
    "    self.species = species\n",
    "    self.sound = sound\n",
    "\n",
    "dog = Animal(\"Dog\", \"Woof\")\n",
    "\n",
    "for i in range(5):\n",
    "    print(dog.sound)\n",
    "\"\"\""
   ]
  },
  {
   "cell_type": "code",
   "execution_count": 58,
   "id": "364e5c06-4e0a-461a-a521-b3ae58f9cba7",
   "metadata": {},
   "outputs": [],
   "source": [
    "# import PythonCodeTextSplitter\n",
    "from langchain.text_splitter import PythonCodeTextSplitter\n",
    "\n",
    "#splitter\n",
    "python_splitter = PythonCodeTextSplitter(chunk_size=100, chunk_overlap=0)"
   ]
  },
  {
   "cell_type": "code",
   "execution_count": 59,
   "id": "4584d403-4101-4528-8ada-80cadb5b4b3d",
   "metadata": {},
   "outputs": [
    {
     "data": {
      "text/plain": [
       "[Document(metadata={}, page_content='class Animal:\\n  def __init__(self, species, sound):\\n    self.species = species'),\n",
       " Document(metadata={}, page_content='self.sound = sound'),\n",
       " Document(metadata={}, page_content='dog = Animal(\"Dog\", \"Woof\")\\n\\nfor i in range(5):\\n    print(dog.sound)')]"
      ]
     },
     "execution_count": 59,
     "metadata": {},
     "output_type": "execute_result"
    }
   ],
   "source": [
    "python_splitter.create_documents([python_text])"
   ]
  },
  {
   "cell_type": "code",
   "execution_count": 72,
   "id": "a0115768-aeb3-4d16-b512-1887ac3c07af",
   "metadata": {},
   "outputs": [
    {
     "data": {
      "text/plain": [
       "[Document(metadata={}, page_content='class Animal:'),\n",
       " Document(metadata={}, page_content='def __init__(self, species, sound):'),\n",
       " Document(metadata={}, page_content='self.species = species\\n    self.sound = sound'),\n",
       " Document(metadata={}, page_content='dog = Animal(\"Dog\", \"Woof\")'),\n",
       " Document(metadata={}, page_content='for i in range(5):\\n    print(dog.sound)')]"
      ]
     },
     "execution_count": 72,
     "metadata": {},
     "output_type": "execute_result"
    }
   ],
   "source": [
    "# Another way by RecursiveCharacterTextSplitter\n",
    "\n",
    "from langchain_text_splitters import (\n",
    "    Language,\n",
    "    RecursiveCharacterTextSplitter,\n",
    ")\n",
    "\n",
    "python_splitter = RecursiveCharacterTextSplitter.from_language(\n",
    "    language=Language.PYTHON, chunk_size=50, chunk_overlap=0\n",
    ")\n",
    "python_docs = python_splitter.create_documents([python_text])\n",
    "python_docs"
   ]
  },
  {
   "cell_type": "markdown",
   "id": "8a6946a8-c58b-41a3-82ac-4f6337aa11c7",
   "metadata": {},
   "source": [
    "- ### HTML"
   ]
  },
  {
   "cell_type": "code",
   "execution_count": 73,
   "id": "e6d8f927-b3c5-42b1-8c76-16b491b9b861",
   "metadata": {},
   "outputs": [],
   "source": [
    "# Sample Text\n",
    "\n",
    "html_text = \"\"\"\n",
    "<!DOCTYPE html>\n",
    "<html>\n",
    "    <head>\n",
    "        <title>🌍 Simple Example</title>\n",
    "        <style>\n",
    "            body {\n",
    "                font-family: Arial, sans-serif;\n",
    "            }\n",
    "            h1 {\n",
    "                color: green;\n",
    "            }\n",
    "        </style>\n",
    "    </head>\n",
    "    <body>\n",
    "        <div>\n",
    "            <h1>🌍 Simple Example</h1>\n",
    "            <p>This is a basic HTML structure with a simple heading and paragraph.</p>\n",
    "        </div>\n",
    "    </body>\n",
    "</html>\n",
    "\"\"\""
   ]
  },
  {
   "cell_type": "code",
   "execution_count": 74,
   "id": "c95ece23-a207-402f-abc7-725d9b527cac",
   "metadata": {},
   "outputs": [
    {
     "data": {
      "text/plain": [
       "[Document(metadata={}, page_content='<!DOCTYPE html>\\n<html>'),\n",
       " Document(metadata={}, page_content='<head>\\n        <title>🌍 Simple Example</title>'),\n",
       " Document(metadata={}, page_content='<style>\\n            body {\\n                font-family: Aria'),\n",
       " Document(metadata={}, page_content='l, sans-serif;\\n            }\\n            h1 {'),\n",
       " Document(metadata={}, page_content='color: green;\\n            }\\n        </style>\\n    </head>'),\n",
       " Document(metadata={}, page_content='<body>'),\n",
       " Document(metadata={}, page_content='<div>\\n            <h1>🌍 Simple Example</h1>'),\n",
       " Document(metadata={}, page_content='<p>This is a basic HTML structure with a simple heading and'),\n",
       " Document(metadata={}, page_content='paragraph.</p>\\n        </div>\\n    </body>\\n</html>')]"
      ]
     },
     "execution_count": 74,
     "metadata": {},
     "output_type": "execute_result"
    }
   ],
   "source": [
    "# splitter\n",
    "html_splitter = RecursiveCharacterTextSplitter.from_language(\n",
    "    language=Language.HTML, chunk_size=60, chunk_overlap=0\n",
    ")\n",
    "\n",
    "html_docs = html_splitter.create_documents([html_text])\n",
    "html_docs"
   ]
  },
  {
   "cell_type": "markdown",
   "id": "a81eb9f1-5013-4a48-b20e-1f1873f5c4f7",
   "metadata": {},
   "source": [
    "- ### JavaScript"
   ]
  },
  {
   "cell_type": "code",
   "execution_count": 77,
   "id": "83f37464-2506-45c3-b889-0e4dcc0198a6",
   "metadata": {},
   "outputs": [],
   "source": [
    "# Sample Text\n",
    "\n",
    "javascript_text = \"\"\"\n",
    "function* indexGenerator() {\n",
    "  let index = 0;\n",
    "  while (true) {\n",
    "    yield index++;\n",
    "  }\n",
    "}\n",
    "const g = indexGenerator();\n",
    "console.log(g.next().value);\n",
    "console.log(g.next().value);\n",
    "\"\"\""
   ]
  },
  {
   "cell_type": "code",
   "execution_count": 78,
   "id": "6a9587b3-f371-4e16-818a-bed894753c82",
   "metadata": {},
   "outputs": [
    {
     "data": {
      "text/plain": [
       "[Document(metadata={}, page_content='function* indexGenerator() {\\n  let index = 0;'),\n",
       " Document(metadata={}, page_content='while (true) {\\n    yield index++;\\n  }\\n}'),\n",
       " Document(metadata={}, page_content='const g = indexGenerator();\\nconsole.log(g.next().value);'),\n",
       " Document(metadata={}, page_content='console.log(g.next().value);')]"
      ]
     },
     "execution_count": 78,
     "metadata": {},
     "output_type": "execute_result"
    }
   ],
   "source": [
    "# JS splitter\n",
    "\n",
    "js_splitter = RecursiveCharacterTextSplitter.from_language(\n",
    "    language=Language.JS, chunk_size=60, chunk_overlap=0\n",
    ")\n",
    "\n",
    "js_docs = js_splitter.create_documents([javascript_text])\n",
    "js_docs"
   ]
  },
  {
   "cell_type": "markdown",
   "id": "eb3c1fcc-354d-4be9-94dc-7aee75c546a6",
   "metadata": {},
   "source": [
    "## Type-4: Token Splitting <a id=\"TokenSplitting\"></a>\n",
    "\n",
    "- `Token splitting` refers to breaking text into smaller units called tokens, which are the building blocks that language models (LLMs) use to process and understand text. A token can be a word, part of a word, or even punctuation, depending on how the text is tokenized.\n",
    "\n",
    "#### Benefits of Token Splitting:\n",
    "- **Efficient Processing**: Splitting ensures the text fits within the model's token limit.\n",
    "- **Meaningful Chunks**: Splitting based on token count keeps each chunk coherent for processing."
   ]
  },
  {
   "cell_type": "code",
   "execution_count": 81,
   "id": "33785808-4b7c-45a3-bf09-d1de505a4e45",
   "metadata": {},
   "outputs": [
    {
     "name": "stdout",
     "output_type": "stream",
     "text": [
      "This is\n",
      " a long\n",
      " piece of\n",
      " text that\n",
      " we want\n",
      " to split\n",
      " based on\n",
      " token count\n",
      ".\n"
     ]
    }
   ],
   "source": [
    "from langchain.text_splitter import TokenTextSplitter\n",
    "\n",
    "# Sample Text\n",
    "long_text = \"This is a long piece of text that we want to split based on token count.\"\n",
    "\n",
    "# Split text into tokens (for example, 10 tokens per chunk)\n",
    "token_splitter = TokenTextSplitter(chunk_size=2, chunk_overlap=0)\n",
    "\n",
    "# Split the text into smaller chunks based on token count\n",
    "chunks = token_splitter.create_documents([long_text])\n",
    "\n",
    "# Output the chunks\n",
    "for chunk in chunks:\n",
    "    print(chunk.page_content)"
   ]
  },
  {
   "cell_type": "markdown",
   "id": "a0190c74-9235-4bb6-b6bf-7dc53b84d085",
   "metadata": {},
   "source": [
    "## References and Resources\n",
    "\n",
    "- [**Langchain Documentation**](https://python.langchain.com/docs/introduction/)\n",
    "\n",
    "- [**Langchain**](https://github.com/langchain-ai/langchain)"
   ]
  }
 ],
 "metadata": {
  "kernelspec": {
   "display_name": "exp_ve",
   "language": "python",
   "name": "exp_ve"
  },
  "language_info": {
   "codemirror_mode": {
    "name": "ipython",
    "version": 3
   },
   "file_extension": ".py",
   "mimetype": "text/x-python",
   "name": "python",
   "nbconvert_exporter": "python",
   "pygments_lexer": "ipython3",
   "version": "3.10.12"
  }
 },
 "nbformat": 4,
 "nbformat_minor": 5
}
