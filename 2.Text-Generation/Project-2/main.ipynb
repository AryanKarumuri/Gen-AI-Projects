{
 "cells": [
  {
   "cell_type": "code",
   "execution_count": 1,
   "metadata": {
    "colab": {
     "base_uri": "https://localhost:8080/",
     "height": 66,
     "referenced_widgets": [
      "131d6fcd475a423c96c9db4ca46a9143",
      "fc538a9101d24ecdbd1221989eee60c5",
      "4d68375781ac48e89f8fce439f04a7d0",
      "c87da50bcb84493dba9a3c613484ffe3",
      "2e71b2d2aa6a47a99eba20bf70133784",
      "728e767bb843432ea0e7d6c7679fcbfc",
      "cb3c17fb4f16470982b71fa3ab4ef6c0",
      "f27ff4849ec046deb1cca50fbf47f5b8",
      "83ca4a0f3c8d4a95a0834692c5963f7b",
      "0bbf7694ef934e72b777a4c1fff84fa4",
      "5e0a0a7167e046cd869f1e4d5864aaf7"
     ]
    },
    "id": "QAiTnyVbFS5F",
    "outputId": "cebc156c-8659-4f29-d55c-127275cee3c3"
   },
   "outputs": [
    {
     "name": "stderr",
     "output_type": "stream",
     "text": [
      "/opt/intel/oneapi/intelpython/envs/pytorch-gpu/lib/python3.9/site-packages/torchvision/io/image.py:13: UserWarning: Failed to load image Python extension: ''If you don't plan on using image functionality from `torchvision.io`, you can ignore this warning. Otherwise, there might be something wrong with your environment. Did you have `libjpeg` or `libpng` installed before building `torchvision` from source?\n",
      "  warn(\n"
     ]
    },
    {
     "data": {
      "application/vnd.jupyter.widget-view+json": {
       "model_id": "cd61302d8a98457eb3a4dc761af691d5",
       "version_major": 2,
       "version_minor": 0
      },
      "text/plain": [
       "Loading checkpoint shards:   0%|          | 0/2 [00:00<?, ?it/s]"
      ]
     },
     "metadata": {},
     "output_type": "display_data"
    }
   ],
   "source": [
    "import torch\n",
    "import intel_extension_for_pytorch as ipex\n",
    "from transformers import (\n",
    "    AutoModelForCausalLM,\n",
    "    AutoTokenizer,\n",
    "    GenerationConfig,\n",
    "    TextStreamer,\n",
    "    pipeline,\n",
    ")\n",
    "\n",
    "MODEL_NAME = \"mistralai/Mistral-7B-Instruct-v0.1\"\n",
    "\n",
    "tokenizer = AutoTokenizer.from_pretrained(MODEL_NAME)\n",
    "model = AutoModelForCausalLM.from_pretrained(\n",
    "    MODEL_NAME, torch_dtype=torch.bfloat16)\n",
    "\n",
    "\n",
    "generation_config = GenerationConfig.from_pretrained(MODEL_NAME)\n",
    "generation_config.max_new_tokens = 1024\n",
    "generation_config.temperature = 0.0001\n",
    "generation_config.do_sample = True"
   ]
  },
  {
   "cell_type": "code",
   "execution_count": 2,
   "metadata": {
    "id": "JZbT8VnqaLp4"
   },
   "outputs": [],
   "source": [
    "streamer = TextStreamer(tokenizer, skip_prompt=True, skip_special_tokens=True)"
   ]
  },
  {
   "cell_type": "code",
   "execution_count": 3,
   "metadata": {
    "id": "jNYRgycJXCAu"
   },
   "outputs": [],
   "source": [
    "llm = pipeline(\n",
    "    \"text-generation\",\n",
    "    model=model,\n",
    "    tokenizer=tokenizer,\n",
    "    return_full_text=False,\n",
    "    generation_config=generation_config,\n",
    "    num_return_sequences=1,\n",
    "    eos_token_id=tokenizer.eos_token_id,\n",
    "    pad_token_id=tokenizer.eos_token_id,\n",
    "    streamer=streamer,\n",
    "    device=0,\n",
    ")"
   ]
  },
  {
   "cell_type": "code",
   "execution_count": 4,
   "metadata": {},
   "outputs": [
    {
     "name": "stdin",
     "output_type": "stream",
     "text": [
      "Enter a paragraph that needs to be converted to tabular format: Intel® oneAPI DPC++ Compiler 2024.0.2, Intel® oneAPI DPC++ Library 2022.3.0, Intel® DPC++ Compatibility Tool 2024.0.0, Intel® oneAPI Math Kernel Library 2024.0.0,  Intel® Distribution for GDB* 2024.0.0, Intel® VTune™ Profiler 2024.0.0, Intel® Advisor 2024.0.0, Intel® oneAPI Threading Building Blocks 2021.11.0,  Intel® Integrated Performance Primitives 2021.10.0, Intel® Integrated Performance Primitives Cryptography 2021.9.1*, Intel® oneAPI Collective Communications Library 2021.11.2*,  Intel® oneAPI Data Analytics Library 2024.0.1*, Intel® oneAPI Deep Neural Networks Library 2024.0.0\n"
     ]
    }
   ],
   "source": [
    "s1 = input(\"Enter a paragraph that needs to be converted to tabular format:\")"
   ]
  },
  {
   "cell_type": "code",
   "execution_count": 5,
   "metadata": {},
   "outputs": [],
   "source": [
    "text1 = \"<s>[INST] Using the paragraph, Split the paragraph into Component Name and Component Version and create a nested Python list : \" + s1 + \" [/INST]\""
   ]
  },
  {
   "cell_type": "code",
   "execution_count": 6,
   "metadata": {},
   "outputs": [
    {
     "data": {
      "text/plain": [
       "'<s>[INST] Using the paragraph, Split the paragraph into Component Name and Component Version and create a nested Python list : Intel® oneAPI DPC++ Compiler 2024.0.2, Intel® oneAPI DPC++ Library 2022.3.0, Intel® DPC++ Compatibility Tool 2024.0.0, Intel® oneAPI Math Kernel Library 2024.0.0,  Intel® Distribution for GDB* 2024.0.0, Intel® VTune™ Profiler 2024.0.0, Intel® Advisor 2024.0.0, Intel® oneAPI Threading Building Blocks 2021.11.0,  Intel® Integrated Performance Primitives 2021.10.0, Intel® Integrated Performance Primitives Cryptography 2021.9.1*, Intel® oneAPI Collective Communications Library 2021.11.2*,  Intel® oneAPI Data Analytics Library 2024.0.1*, Intel® oneAPI Deep Neural Networks Library 2024.0.0 [/INST]'"
      ]
     },
     "execution_count": 6,
     "metadata": {},
     "output_type": "execute_result"
    }
   ],
   "source": [
    "text1"
   ]
  },
  {
   "cell_type": "code",
   "execution_count": 7,
   "metadata": {},
   "outputs": [
    {
     "name": "stdout",
     "output_type": "stream",
     "text": [
      "Here is the nested Python list:\n",
      "```\n",
      "[\n",
      "   ['Intel® oneAPI DPC++ Compiler', '2024.0.2'],\n",
      "   ['Intel® oneAPI DPC++ Library', '2022.3.0'],\n",
      "   ['Intel® DPC++ Compatibility Tool', '2024.0.0'],\n",
      "   ['Intel® oneAPI Math Kernel Library', '2024.0.0'],\n",
      "   ['Intel® Distribution for GDB*', '2024.0.0'],\n",
      "   ['Intel® VTune™ Profiler', '2024.0.0'],\n",
      "   ['Intel® Advisor', '2024.0.0'],\n",
      "   ['Intel® oneAPI Threading Building Blocks', '2021.11.0'],\n",
      "   ['Intel® Integrated Performance Primitives', '2021.10.0'],\n",
      "   ['Intel® Integrated Performance Primitives Cryptography', '2021.9.1'],\n",
      "   ['Intel® oneAPI Collective Communications Library', '2021.11.2'],\n",
      "   ['Intel® oneAPI Data Analytics Library', '2024.0.1'],\n",
      "   ['Intel® oneAPI Deep Neural Networks Library', '2024.0.0']\n",
      "]\n",
      "```\n",
      "Note: The version number for Intel® Integrated Performance Primitives Cryptography is not specified in the paragraph, so I have left it as an empty string.\n",
      "CPU times: user 15.4 s, sys: 702 ms, total: 16.1 s\n",
      "Wall time: 16.1 s\n"
     ]
    }
   ],
   "source": [
    "%%time\n",
    "result1 = llm(text1)"
   ]
  },
  {
   "cell_type": "code",
   "execution_count": 8,
   "metadata": {},
   "outputs": [
    {
     "data": {
      "text/plain": [
       "[{'generated_text': \" Here is the nested Python list:\\n```\\n[\\n    ['Intel® oneAPI DPC++ Compiler', '2024.0.2'],\\n    ['Intel® oneAPI DPC++ Library', '2022.3.0'],\\n    ['Intel® DPC++ Compatibility Tool', '2024.0.0'],\\n    ['Intel® oneAPI Math Kernel Library', '2024.0.0'],\\n    ['Intel® Distribution for GDB*', '2024.0.0'],\\n    ['Intel® VTune™ Profiler', '2024.0.0'],\\n    ['Intel® Advisor', '2024.0.0'],\\n    ['Intel® oneAPI Threading Building Blocks', '2021.11.0'],\\n    ['Intel® Integrated Performance Primitives', '2021.10.0'],\\n    ['Intel® Integrated Performance Primitives Cryptography', '2021.9.1'],\\n    ['Intel® oneAPI Collective Communications Library', '2021.11.2'],\\n    ['Intel® oneAPI Data Analytics Library', '2024.0.1'],\\n    ['Intel® oneAPI Deep Neural Networks Library', '2024.0.0']\\n]\\n```\\nNote: The version number for Intel® Integrated Performance Primitives Cryptography is not specified in the paragraph, so I have left it as an empty string.\"}]"
      ]
     },
     "execution_count": 8,
     "metadata": {},
     "output_type": "execute_result"
    }
   ],
   "source": [
    "result1"
   ]
  },
  {
   "cell_type": "code",
   "execution_count": 9,
   "metadata": {},
   "outputs": [
    {
     "name": "stdout",
     "output_type": "stream",
     "text": [
      "\n",
      "[\n",
      "    ['Intel® oneAPI DPC++ Compiler', '2024.0.2'],\n",
      "    ['Intel® oneAPI DPC++ Library', '2022.3.0'],\n",
      "    ['Intel® DPC++ Compatibility Tool', '2024.0.0'],\n",
      "    ['Intel® oneAPI Math Kernel Library', '2024.0.0'],\n",
      "    ['Intel® Distribution for GDB*', '2024.0.0'],\n",
      "    ['Intel® VTune™ Profiler', '2024.0.0'],\n",
      "    ['Intel® Advisor', '2024.0.0'],\n",
      "    ['Intel® oneAPI Threading Building Blocks', '2021.11.0'],\n",
      "    ['Intel® Integrated Performance Primitives', '2021.10.0'],\n",
      "    ['Intel® Integrated Performance Primitives Cryptography', '2021.9.1'],\n",
      "    ['Intel® oneAPI Collective Communications Library', '2021.11.2'],\n",
      "    ['Intel® oneAPI Data Analytics Library', '2024.0.1'],\n",
      "    ['Intel® oneAPI Deep Neural Networks Library', '2024.0.0']\n",
      "]\n",
      "\n"
     ]
    }
   ],
   "source": [
    "# Extract the generated text\n",
    "generated_text = result1[0]['generated_text']\n",
    " \n",
    "# Extract the content between ``` and ```\n",
    "start_index = generated_text.find('```') + 3\n",
    "end_index = generated_text.rfind('```')\n",
    "content_between_backticks = generated_text[start_index:end_index]\n",
    " \n",
    "# Print the content\n",
    "print(content_between_backticks)"
   ]
  },
  {
   "cell_type": "code",
   "execution_count": 10,
   "metadata": {},
   "outputs": [
    {
     "name": "stdout",
     "output_type": "stream",
     "text": [
      "[['Intel® oneAPI DPC++ Compiler', '2024.0.2'], ['Intel® oneAPI DPC++ Library', '2022.3.0'], ['Intel® DPC++ Compatibility Tool', '2024.0.0'], ['Intel® oneAPI Math Kernel Library', '2024.0.0'], ['Intel® Distribution for GDB*', '2024.0.0'], ['Intel® VTune™ Profiler', '2024.0.0'], ['Intel® Advisor', '2024.0.0'], ['Intel® oneAPI Threading Building Blocks', '2021.11.0'], ['Intel® Integrated Performance Primitives', '2021.10.0'], ['Intel® Integrated Performance Primitives Cryptography', '2021.9.1'], ['Intel® oneAPI Collective Communications Library', '2021.11.2'], ['Intel® oneAPI Data Analytics Library', '2024.0.1'], ['Intel® oneAPI Deep Neural Networks Library', '2024.0.0']]\n"
     ]
    }
   ],
   "source": [
    "out = eval(content_between_backticks)\n",
    "print(out)\n"
   ]
  },
  {
   "cell_type": "code",
   "execution_count": 11,
   "metadata": {},
   "outputs": [
    {
     "data": {
      "text/plain": [
       "list"
      ]
     },
     "execution_count": 11,
     "metadata": {},
     "output_type": "execute_result"
    }
   ],
   "source": [
    "type(out)"
   ]
  },
  {
   "cell_type": "code",
   "execution_count": 56,
   "metadata": {},
   "outputs": [
    {
     "name": "stdout",
     "output_type": "stream",
     "text": [
      "[['Component Name', 'Version'], ['Intel® oneAPI DPC++ Compiler', '2024.0.2'], ['Intel® oneAPI DPC++ Library', '2022.3.0'], ['Intel® DPC++ Compatibility Tool', '2024.0.0'], ['Intel® oneAPI Math Kernel Library', '2024.0.0'], ['Intel® Distribution for GDB*', '2024.0.0'], ['Intel® VTune™ Profiler', '2024.0.0'], ['Intel® Advisor', '2024.0.0'], ['Intel® oneAPI Threading Building Blocks', '2021.11.0'], ['Intel® Integrated Performance Primitives', '2021.10.0'], ['Intel® Integrated Performance Primitives Cryptography', '2021.9.1'], ['Intel® oneAPI Collective Communications Library', '2021.11.2'], ['Intel® oneAPI Data Analytics Library', '2024.0.1'], ['Intel® oneAPI Deep Neural Networks Library', '2024.0.0']]\n"
     ]
    }
   ],
   "source": [
    "new_out = out\n",
    "new_out.insert(0, ['Component Name', 'Version'])\n",
    "print(new_out)"
   ]
  },
  {
   "cell_type": "code",
   "execution_count": 28,
   "metadata": {},
   "outputs": [
    {
     "name": "stdout",
     "output_type": "stream",
     "text": [
      "+-------------------------------------------------------+-----------+\n",
      "| Component Name                                        | Version   |\n",
      "+=======================================================+===========+\n",
      "| Intel® oneAPI DPC++ Compiler                          | 2024.0.2  |\n",
      "| Intel® oneAPI DPC++ Library                           | 2022.3.0  |\n",
      "| Intel® DPC++ Compatibility Tool                       | 2024.0.0  |\n",
      "| Intel® oneAPI Math Kernel Library                     | 2024.0.0  |\n",
      "| Intel® Distribution for GDB*                          | 2024.0.0  |\n",
      "| Intel® VTune™ Profiler                                | 2024.0.0  |\n",
      "| Intel® Advisor                                        | 2024.0.0  |\n",
      "| Intel® oneAPI Threading Building Blocks               | 2021.11.0 |\n",
      "| Intel® Integrated Performance Primitives              | 2021.10.0 |\n",
      "| Intel® Integrated Performance Primitives Cryptography | 2021.9.1  |\n",
      "| Intel® oneAPI Collective Communications Library       | 2021.11.2 |\n",
      "| Intel® oneAPI Data Analytics Library                  | 2024.0.1  |\n",
      "| Intel® oneAPI Deep Neural Networks Library            | 2024.0.0  |\n",
      "+-------------------------------------------------------+-----------+\n"
     ]
    }
   ],
   "source": [
    "from tabulate import tabulate\n",
    "table_form = tabulate(out, headers=[\"Component Name\", \"Version\"], tablefmt='outline')\n",
    "print(table_form)"
   ]
  },
  {
   "cell_type": "code",
   "execution_count": 13,
   "metadata": {},
   "outputs": [
    {
     "name": "stdin",
     "output_type": "stream",
     "text": [
      "Enter a paragraph that needs to be converted to Release Notes: Intel oneAPI Base Toolkit 2024.0.1 Release Notes: The release patch releases for different component has been included in this release. These patches are build of top of previous patches as required. DPC++ 2024.0.2 has only minor bug fixes. IPP 2021.10.0 Cryptography has fixed an algorithmic issue with AES-XTS Intel AVX-512 code path. oneCCL 2021.11.2 has a bug fix to main driver compactability for Intel Data Centre GPU Max series. oneDAL has new features and bug fixes.\n"
     ]
    }
   ],
   "source": [
    "s2 = input(\"Enter a paragraph that needs to be converted to Release Notes:\")"
   ]
  },
  {
   "cell_type": "code",
   "execution_count": 14,
   "metadata": {
    "id": "ZMANahddZ1LG"
   },
   "outputs": [],
   "source": [
    "text = \"<s>[INST] Make the paragraph into a releases notes bullet points: \" + s2 + \" [/INST]\""
   ]
  },
  {
   "cell_type": "code",
   "execution_count": 15,
   "metadata": {},
   "outputs": [
    {
     "data": {
      "text/plain": [
       "'<s>[INST] Make the paragraph into a releases notes bullet points: Intel oneAPI Base Toolkit 2024.0.1 Release Notes: The release patch releases for different component has been included in this release. These patches are build of top of previous patches as required. DPC++ 2024.0.2 has only minor bug fixes. IPP 2021.10.0 Cryptography has fixed an algorithmic issue with AES-XTS Intel AVX-512 code path. oneCCL 2021.11.2 has a bug fix to main driver compactability for Intel Data Centre GPU Max series. oneDAL has new features and bug fixes. [/INST]'"
      ]
     },
     "execution_count": 15,
     "metadata": {},
     "output_type": "execute_result"
    }
   ],
   "source": [
    "text"
   ]
  },
  {
   "cell_type": "code",
   "execution_count": 16,
   "metadata": {
    "colab": {
     "base_uri": "https://localhost:8080/"
    },
    "id": "ddnH_T22cJsi",
    "outputId": "4da0054e-5e94-4d83-a11c-412bbd3f8de2"
   },
   "outputs": [
    {
     "name": "stdout",
     "output_type": "stream",
     "text": [
      "* Intel oneAPI Base Toolkit 2024.0.1 Release Notes\n",
      "* Patch releases for different components included in this release\n",
      "* Build of top of previous patches as required\n",
      "* DPC++ 2024.0.2 has only minor bug fixes\n",
      "* IPP 2021.10.0 Cryptography has fixed an algorithmic issue with AES-XTS Intel AVX-512 code path\n",
      "* oneCCL 2021.11.2 has a bug fix to main driver compactability for Intel Data Centre GPU Max series\n",
      "* oneDAL has new features and bug fixes\n",
      "CPU times: user 5.69 s, sys: 166 ms, total: 5.86 s\n",
      "Wall time: 5.86 s\n"
     ]
    }
   ],
   "source": [
    "%%time\n",
    "result = llm(text)"
   ]
  },
  {
   "cell_type": "code",
   "execution_count": 17,
   "metadata": {
    "id": "6_pFCsy1dJ-d"
   },
   "outputs": [],
   "source": [
    "def format_prompt(prompt, system_prompt=\"\"):\n",
    "    if system_prompt.strip():\n",
    "        return f\"<s>[INST] {system_prompt} {prompt} [/INST]\"\n",
    "    return f\"<s>[INST] {prompt} [/INST]\""
   ]
  },
  {
   "cell_type": "code",
   "execution_count": 18,
   "metadata": {
    "id": "xXCBE0A0d3ce"
   },
   "outputs": [],
   "source": [
    "SYSTEM_PROMPT = text.strip()"
   ]
  },
  {
   "cell_type": "code",
   "execution_count": 19,
   "metadata": {
    "colab": {
     "base_uri": "https://localhost:8080/"
    },
    "id": "8g2q7DdMd5KY",
    "outputId": "d0b362ae-7bd8-4994-8e6a-e47f8c75e213"
   },
   "outputs": [
    {
     "name": "stdout",
     "output_type": "stream",
     "text": [
      "Intel oneAPI Base Toolkit 2024.0.1 Release Notes:\n",
      "\n",
      "Product Level Updates:\n",
      "\n",
      "* Intel oneAPI Base Toolkit 2024.0.1\n",
      "\t+ Patch releases for different components included\n",
      "\t+ Build of top of previous patches as required\n",
      "\n",
      "Component Level Updates:\n",
      "\n",
      "* DPC++ 2024.0.2\n",
      "\t+ Minor bug fixes\n",
      "* IPP 2021.10.0 Cryptography\n",
      "\t+ Fixed an algorithmic issue with AES-XTS Intel AVX-512 code path\n",
      "* oneCCL 2021.11.2\n",
      "\t+ Bug fix to main driver compactability for Intel Data Centre GPU Max series\n",
      "* oneDAL\n",
      "\t+ New features and bug fixes\n",
      "CPU times: user 7.13 s, sys: 161 ms, total: 7.29 s\n",
      "Wall time: 7.29 s\n"
     ]
    }
   ],
   "source": [
    "%%time\n",
    "prompt = \"\"\"\n",
    "Can you follow the below template for this:\n",
    "Product Level Updates where general points of release notes are given.\n",
    "Component Level Updates where component release notes are given.\n",
    "Do not write complete sentances, only short points as per below format:\n",
    "\n",
    "<Product Name> <Major Version>\n",
    "New in <Product Name>\n",
    "\t* Product Level Updates:\n",
    "\t\t+ <Point #1>\n",
    "\t\t+ <Point #2>\n",
    "    * Component Level Updates:\n",
    "        + <Component Name> <Version No:>\n",
    "            + <Point #1>\n",
    "            + <Point #2>\n",
    "\"\"\".strip()\n",
    "result = llm(format_prompt(prompt, SYSTEM_PROMPT))"
   ]
  },
  {
   "cell_type": "code",
   "execution_count": 25,
   "metadata": {},
   "outputs": [
    {
     "data": {
      "text/plain": [
       "list"
      ]
     },
     "execution_count": 25,
     "metadata": {},
     "output_type": "execute_result"
    }
   ],
   "source": [
    "type(result)"
   ]
  },
  {
   "cell_type": "code",
   "execution_count": 26,
   "metadata": {},
   "outputs": [
    {
     "data": {
      "text/plain": [
       "[{'generated_text': ' Intel oneAPI Base Toolkit 2024.0.1 Release Notes:\\n\\nProduct Level Updates:\\n\\n* Intel oneAPI Base Toolkit 2024.0.1\\n\\t+ Patch releases for different components included\\n\\t+ Build of top of previous patches as required\\n\\nComponent Level Updates:\\n\\n* DPC++ 2024.0.2\\n\\t+ Minor bug fixes\\n* IPP 2021.10.0 Cryptography\\n\\t+ Fixed an algorithmic issue with AES-XTS Intel AVX-512 code path\\n* oneCCL 2021.11.2\\n\\t+ Bug fix to main driver compactability for Intel Data Centre GPU Max series\\n* oneDAL\\n\\t+ New features and bug fixes'}]"
      ]
     },
     "execution_count": 26,
     "metadata": {},
     "output_type": "execute_result"
    }
   ],
   "source": [
    "result"
   ]
  },
  {
   "cell_type": "code",
   "execution_count": 44,
   "metadata": {},
   "outputs": [
    {
     "name": "stdout",
     "output_type": "stream",
     "text": [
      " Intel oneAPI Base Toolkit 2024.0.1 Release Notes:\n",
      "\n",
      "Product Level Updates:\n",
      "\n",
      "* Intel oneAPI Base Toolkit 2024.0.1\n",
      "\t+ Patch releases for different components included\n",
      "\t+ Build of top of previous patches as required\n",
      "\n",
      "Component Level Updates:\n",
      "\n",
      "* DPC++ 2024.0.2\n",
      "\t+ Minor bug fixes\n",
      "* IPP 2021.10.0 Cryptography\n",
      "\t+ Fixed an algorithmic issue with AES-XTS Intel AVX-512 code path\n",
      "* oneCCL 2021.11.2\n",
      "\t+ Bug fix to main driver compactability for Intel Data Centre GPU Max series\n",
      "* oneDAL\n",
      "\t+ New features and bug fixes\n"
     ]
    }
   ],
   "source": [
    "# Extract the generated text\n",
    "generated_text = result[0]['generated_text']\n",
    "#print(generated_text)\n",
    "\n",
    "# Extract the content between ``` and ```\n",
    "start_index = generated_text.find('')\n",
    "end_index = generated_text.rfind('')\n",
    "content = generated_text[start_index:end_index]\n",
    " \n",
    "# Print the content\n",
    "print(content)\n",
    "\n",
    "#print(type(content))"
   ]
  },
  {
   "cell_type": "code",
   "execution_count": 69,
   "metadata": {},
   "outputs": [],
   "source": [
    "from reportlab.lib.pagesizes import letter\n",
    "from reportlab.pdfgen import canvas\n",
    "\n",
    "def output_to_pdf(text, filename):\n",
    "    c = canvas.Canvas(filename, pagesize=letter)\n",
    "    width, height = letter \n",
    "    c.setFont(\"Helvetica\", 12)   \n",
    "    lines = text.split('\\n')  \n",
    "    y = height - 50   \n",
    "    for line in lines:\n",
    "        c.drawString(50, y, line)\n",
    "        y -= 15  \n",
    "\n",
    "    c.save()\n",
    "\n",
    "\n",
    "text_to_write = content_between_backticks\n",
    "output_to_pdf(text_to_write, \"output1.pdf\")\n"
   ]
  },
  {
   "cell_type": "code",
   "execution_count": 64,
   "metadata": {},
   "outputs": [],
   "source": [
    "from reportlab.lib import colors\n",
    "from reportlab.lib.pagesizes import letter\n",
    "from reportlab.platypus import SimpleDocTemplate, Table, TableStyle\n",
    "\n",
    "def create_pdf(data, filename='table.pdf'):\n",
    "    doc = SimpleDocTemplate(filename,pageSize=letter)\n",
    "    table = Table(data, rowHeights=[9*3 for i in range(len(out))],colWidths=[93*3 for i in range(len(out[0]))])\n",
    "\n",
    "    # Add style to table\n",
    "    style = TableStyle([('BACKGROUND', (0, 0), (-1, 0), colors.grey),\n",
    "                        ('TEXTCOLOR', (0, 0), (-1, 0), colors.black),\n",
    "                        ('ALIGN', (0, 0), (-1, -1), 'CENTER'),\n",
    "                        ('FONTNAME', (0, 0), (-1, 0), 'Helvetica-Bold'),\n",
    "                        ('BOTTOMPADDING', (0, 0), (-1, 0), 12),\n",
    "                        ('GRID', (0, 0), (-1, -1), 1, colors.black)])\n",
    "\n",
    "    for i in range(1, len(data)):\n",
    "        if i%2==0:\n",
    "            bg_color = colors.white\n",
    "        else:\n",
    "            bg_color = colors.lightgrey\n",
    "        style.add('BACKGROUND', (0, i), (-1, i), bg_color)\n",
    "            \n",
    "    \n",
    "    table.setStyle(style)\n",
    "\n",
    "    # Add table to document\n",
    "    doc.build([table])\n",
    "\n",
    "# Example usage\n",
    "create_pdf(new_out)"
   ]
  },
  {
   "cell_type": "code",
   "execution_count": 68,
   "metadata": {},
   "outputs": [],
   "source": [
    "from pypdf import PdfWriter\n",
    "\n",
    "pdfs = ['table.pdf', 'output1.pdf']\n",
    "\n",
    "merger = PdfWriter()\n",
    "\n",
    "for pdf in pdfs:\n",
    "    merger.append(pdf)\n",
    "\n",
    "merger.write(\"result.pdf\")\n",
    "merger.close()"
   ]
  },
  {
   "cell_type": "code",
   "execution_count": null,
   "metadata": {},
   "outputs": [],
   "source": []
  }
 ],
 "metadata": {
  "accelerator": "GPU",
  "colab": {
   "gpuType": "T4",
   "machine_shape": "hm",
   "provenance": []
  },
  "kernelspec": {
   "display_name": "pytorch-gpu",
   "language": "python",
   "name": "pytorch-gpu"
  },
  "language_info": {
   "codemirror_mode": {
    "name": "ipython",
    "version": 3
   },
   "file_extension": ".py",
   "mimetype": "text/x-python",
   "name": "python",
   "nbconvert_exporter": "python",
   "pygments_lexer": "ipython3",
   "version": "3.9.18"
  },
  "widgets": {
   "application/vnd.jupyter.widget-state+json": {
    "0bbf7694ef934e72b777a4c1fff84fa4": {
     "model_module": "@jupyter-widgets/base",
     "model_module_version": "1.2.0",
     "model_name": "LayoutModel",
     "state": {
      "_model_module": "@jupyter-widgets/base",
      "_model_module_version": "1.2.0",
      "_model_name": "LayoutModel",
      "_view_count": null,
      "_view_module": "@jupyter-widgets/base",
      "_view_module_version": "1.2.0",
      "_view_name": "LayoutView",
      "align_content": null,
      "align_items": null,
      "align_self": null,
      "border": null,
      "bottom": null,
      "display": null,
      "flex": null,
      "flex_flow": null,
      "grid_area": null,
      "grid_auto_columns": null,
      "grid_auto_flow": null,
      "grid_auto_rows": null,
      "grid_column": null,
      "grid_gap": null,
      "grid_row": null,
      "grid_template_areas": null,
      "grid_template_columns": null,
      "grid_template_rows": null,
      "height": null,
      "justify_content": null,
      "justify_items": null,
      "left": null,
      "margin": null,
      "max_height": null,
      "max_width": null,
      "min_height": null,
      "min_width": null,
      "object_fit": null,
      "object_position": null,
      "order": null,
      "overflow": null,
      "overflow_x": null,
      "overflow_y": null,
      "padding": null,
      "right": null,
      "top": null,
      "visibility": null,
      "width": null
     }
    },
    "131d6fcd475a423c96c9db4ca46a9143": {
     "model_module": "@jupyter-widgets/controls",
     "model_module_version": "1.5.0",
     "model_name": "HBoxModel",
     "state": {
      "_dom_classes": [],
      "_model_module": "@jupyter-widgets/controls",
      "_model_module_version": "1.5.0",
      "_model_name": "HBoxModel",
      "_view_count": null,
      "_view_module": "@jupyter-widgets/controls",
      "_view_module_version": "1.5.0",
      "_view_name": "HBoxView",
      "box_style": "",
      "children": [
       "IPY_MODEL_fc538a9101d24ecdbd1221989eee60c5",
       "IPY_MODEL_4d68375781ac48e89f8fce439f04a7d0",
       "IPY_MODEL_c87da50bcb84493dba9a3c613484ffe3"
      ],
      "layout": "IPY_MODEL_2e71b2d2aa6a47a99eba20bf70133784"
     }
    },
    "2e71b2d2aa6a47a99eba20bf70133784": {
     "model_module": "@jupyter-widgets/base",
     "model_module_version": "1.2.0",
     "model_name": "LayoutModel",
     "state": {
      "_model_module": "@jupyter-widgets/base",
      "_model_module_version": "1.2.0",
      "_model_name": "LayoutModel",
      "_view_count": null,
      "_view_module": "@jupyter-widgets/base",
      "_view_module_version": "1.2.0",
      "_view_name": "LayoutView",
      "align_content": null,
      "align_items": null,
      "align_self": null,
      "border": null,
      "bottom": null,
      "display": null,
      "flex": null,
      "flex_flow": null,
      "grid_area": null,
      "grid_auto_columns": null,
      "grid_auto_flow": null,
      "grid_auto_rows": null,
      "grid_column": null,
      "grid_gap": null,
      "grid_row": null,
      "grid_template_areas": null,
      "grid_template_columns": null,
      "grid_template_rows": null,
      "height": null,
      "justify_content": null,
      "justify_items": null,
      "left": null,
      "margin": null,
      "max_height": null,
      "max_width": null,
      "min_height": null,
      "min_width": null,
      "object_fit": null,
      "object_position": null,
      "order": null,
      "overflow": null,
      "overflow_x": null,
      "overflow_y": null,
      "padding": null,
      "right": null,
      "top": null,
      "visibility": null,
      "width": null
     }
    },
    "4d68375781ac48e89f8fce439f04a7d0": {
     "model_module": "@jupyter-widgets/controls",
     "model_module_version": "1.5.0",
     "model_name": "FloatProgressModel",
     "state": {
      "_dom_classes": [],
      "_model_module": "@jupyter-widgets/controls",
      "_model_module_version": "1.5.0",
      "_model_name": "FloatProgressModel",
      "_view_count": null,
      "_view_module": "@jupyter-widgets/controls",
      "_view_module_version": "1.5.0",
      "_view_name": "ProgressView",
      "bar_style": "success",
      "description": "",
      "description_tooltip": null,
      "layout": "IPY_MODEL_f27ff4849ec046deb1cca50fbf47f5b8",
      "max": 2,
      "min": 0,
      "orientation": "horizontal",
      "style": "IPY_MODEL_83ca4a0f3c8d4a95a0834692c5963f7b",
      "value": 2
     }
    },
    "5e0a0a7167e046cd869f1e4d5864aaf7": {
     "model_module": "@jupyter-widgets/controls",
     "model_module_version": "1.5.0",
     "model_name": "DescriptionStyleModel",
     "state": {
      "_model_module": "@jupyter-widgets/controls",
      "_model_module_version": "1.5.0",
      "_model_name": "DescriptionStyleModel",
      "_view_count": null,
      "_view_module": "@jupyter-widgets/base",
      "_view_module_version": "1.2.0",
      "_view_name": "StyleView",
      "description_width": ""
     }
    },
    "728e767bb843432ea0e7d6c7679fcbfc": {
     "model_module": "@jupyter-widgets/base",
     "model_module_version": "1.2.0",
     "model_name": "LayoutModel",
     "state": {
      "_model_module": "@jupyter-widgets/base",
      "_model_module_version": "1.2.0",
      "_model_name": "LayoutModel",
      "_view_count": null,
      "_view_module": "@jupyter-widgets/base",
      "_view_module_version": "1.2.0",
      "_view_name": "LayoutView",
      "align_content": null,
      "align_items": null,
      "align_self": null,
      "border": null,
      "bottom": null,
      "display": null,
      "flex": null,
      "flex_flow": null,
      "grid_area": null,
      "grid_auto_columns": null,
      "grid_auto_flow": null,
      "grid_auto_rows": null,
      "grid_column": null,
      "grid_gap": null,
      "grid_row": null,
      "grid_template_areas": null,
      "grid_template_columns": null,
      "grid_template_rows": null,
      "height": null,
      "justify_content": null,
      "justify_items": null,
      "left": null,
      "margin": null,
      "max_height": null,
      "max_width": null,
      "min_height": null,
      "min_width": null,
      "object_fit": null,
      "object_position": null,
      "order": null,
      "overflow": null,
      "overflow_x": null,
      "overflow_y": null,
      "padding": null,
      "right": null,
      "top": null,
      "visibility": null,
      "width": null
     }
    },
    "83ca4a0f3c8d4a95a0834692c5963f7b": {
     "model_module": "@jupyter-widgets/controls",
     "model_module_version": "1.5.0",
     "model_name": "ProgressStyleModel",
     "state": {
      "_model_module": "@jupyter-widgets/controls",
      "_model_module_version": "1.5.0",
      "_model_name": "ProgressStyleModel",
      "_view_count": null,
      "_view_module": "@jupyter-widgets/base",
      "_view_module_version": "1.2.0",
      "_view_name": "StyleView",
      "bar_color": null,
      "description_width": ""
     }
    },
    "c87da50bcb84493dba9a3c613484ffe3": {
     "model_module": "@jupyter-widgets/controls",
     "model_module_version": "1.5.0",
     "model_name": "HTMLModel",
     "state": {
      "_dom_classes": [],
      "_model_module": "@jupyter-widgets/controls",
      "_model_module_version": "1.5.0",
      "_model_name": "HTMLModel",
      "_view_count": null,
      "_view_module": "@jupyter-widgets/controls",
      "_view_module_version": "1.5.0",
      "_view_name": "HTMLView",
      "description": "",
      "description_tooltip": null,
      "layout": "IPY_MODEL_0bbf7694ef934e72b777a4c1fff84fa4",
      "placeholder": "​",
      "style": "IPY_MODEL_5e0a0a7167e046cd869f1e4d5864aaf7",
      "value": " 2/2 [00:16&lt;00:00,  7.62s/it]"
     }
    },
    "cb3c17fb4f16470982b71fa3ab4ef6c0": {
     "model_module": "@jupyter-widgets/controls",
     "model_module_version": "1.5.0",
     "model_name": "DescriptionStyleModel",
     "state": {
      "_model_module": "@jupyter-widgets/controls",
      "_model_module_version": "1.5.0",
      "_model_name": "DescriptionStyleModel",
      "_view_count": null,
      "_view_module": "@jupyter-widgets/base",
      "_view_module_version": "1.2.0",
      "_view_name": "StyleView",
      "description_width": ""
     }
    },
    "f27ff4849ec046deb1cca50fbf47f5b8": {
     "model_module": "@jupyter-widgets/base",
     "model_module_version": "1.2.0",
     "model_name": "LayoutModel",
     "state": {
      "_model_module": "@jupyter-widgets/base",
      "_model_module_version": "1.2.0",
      "_model_name": "LayoutModel",
      "_view_count": null,
      "_view_module": "@jupyter-widgets/base",
      "_view_module_version": "1.2.0",
      "_view_name": "LayoutView",
      "align_content": null,
      "align_items": null,
      "align_self": null,
      "border": null,
      "bottom": null,
      "display": null,
      "flex": null,
      "flex_flow": null,
      "grid_area": null,
      "grid_auto_columns": null,
      "grid_auto_flow": null,
      "grid_auto_rows": null,
      "grid_column": null,
      "grid_gap": null,
      "grid_row": null,
      "grid_template_areas": null,
      "grid_template_columns": null,
      "grid_template_rows": null,
      "height": null,
      "justify_content": null,
      "justify_items": null,
      "left": null,
      "margin": null,
      "max_height": null,
      "max_width": null,
      "min_height": null,
      "min_width": null,
      "object_fit": null,
      "object_position": null,
      "order": null,
      "overflow": null,
      "overflow_x": null,
      "overflow_y": null,
      "padding": null,
      "right": null,
      "top": null,
      "visibility": null,
      "width": null
     }
    },
    "fc538a9101d24ecdbd1221989eee60c5": {
     "model_module": "@jupyter-widgets/controls",
     "model_module_version": "1.5.0",
     "model_name": "HTMLModel",
     "state": {
      "_dom_classes": [],
      "_model_module": "@jupyter-widgets/controls",
      "_model_module_version": "1.5.0",
      "_model_name": "HTMLModel",
      "_view_count": null,
      "_view_module": "@jupyter-widgets/controls",
      "_view_module_version": "1.5.0",
      "_view_name": "HTMLView",
      "description": "",
      "description_tooltip": null,
      "layout": "IPY_MODEL_728e767bb843432ea0e7d6c7679fcbfc",
      "placeholder": "​",
      "style": "IPY_MODEL_cb3c17fb4f16470982b71fa3ab4ef6c0",
      "value": "Loading checkpoint shards: 100%"
     }
    }
   }
  }
 },
 "nbformat": 4,
 "nbformat_minor": 4
}
