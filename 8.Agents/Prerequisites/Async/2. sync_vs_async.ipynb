{
 "cells": [
  {
   "cell_type": "markdown",
   "id": "d7bc7f42",
   "metadata": {},
   "source": [
    "### Synchronous or Normal Version"
   ]
  },
  {
   "cell_type": "code",
   "execution_count": 1,
   "id": "f4f3323b",
   "metadata": {},
   "outputs": [
    {
     "name": "stdout",
     "output_type": "stream",
     "text": [
      "Iron Man is suiting up...\n",
      "Iron Man is ready!\n",
      "Thor is charging Mjolnir...\n",
      "Thor is ready!\n",
      "Total preparation time: 5.01 minutes\n"
     ]
    }
   ],
   "source": [
    "import time\n",
    "\n",
    "def suit_up():\n",
    "    print(\"Iron Man is suiting up...\")\n",
    "    time.sleep(3)  # 3 minutes\n",
    "    print(\"Iron Man is ready!\")\n",
    "\n",
    "def charge_hammer():\n",
    "    print(\"Thor is charging Mjolnir...\")\n",
    "    time.sleep(2)  # 2 minutes\n",
    "    print(\"Thor is ready!\")\n",
    "\n",
    "def main():\n",
    "    start = time.time()\n",
    "\n",
    "    suit_up()\n",
    "    charge_hammer()\n",
    "\n",
    "    end = time.time()\n",
    "    print(f\"Total preparation time: {end - start:.2f} minutes\")\n",
    "\n",
    "main()"
   ]
  },
  {
   "cell_type": "markdown",
   "id": "b3554af2",
   "metadata": {},
   "source": [
    "### Asynchronous Version"
   ]
  },
  {
   "cell_type": "code",
   "execution_count": 3,
   "id": "26c143c9",
   "metadata": {},
   "outputs": [
    {
     "name": "stdout",
     "output_type": "stream",
     "text": [
      "Iron Man is suiting up...\n",
      "Thor is charging Mjolnir...\n",
      "Thor is ready!\n",
      "Iron Man is ready!\n",
      "Total preparation time: 3.01 minutes\n"
     ]
    }
   ],
   "source": [
    "import asyncio\n",
    "import time\n",
    "\n",
    "async def suit_up():\n",
    "    print(\"Iron Man is suiting up...\")\n",
    "    await asyncio.sleep(3)  # Simulates 3 minutes\n",
    "    print(\"Iron Man is ready!\")\n",
    "\n",
    "async def charge_hammer():\n",
    "    print(\"Thor is charging Mjolnir...\")\n",
    "    await asyncio.sleep(2)  # Simulates 2 minutes\n",
    "    print(\"Thor is ready!\")\n",
    "\n",
    "async def main():\n",
    "    start = time.time()\n",
    "\n",
    "    # Run both tasks concurrently\n",
    "    await asyncio.gather(\n",
    "        suit_up(),\n",
    "        charge_hammer()\n",
    "    )\n",
    "\n",
    "    end = time.time()\n",
    "    print(f\"Total preparation time: {end - start:.2f} minutes\")\n",
    "\n",
    "# Run the async main function\n",
    "if __name__ == \"__main__\":\n",
    "    await main()\n"
   ]
  },
  {
   "cell_type": "markdown",
   "id": "a867bc88",
   "metadata": {},
   "source": [
    "### Create Tasks using `asyncio.create_task()`"
   ]
  },
  {
   "cell_type": "code",
   "execution_count": 4,
   "id": "fcf58788",
   "metadata": {},
   "outputs": [
    {
     "name": "stdout",
     "output_type": "stream",
     "text": [
      "Iron Man is suiting up...\n",
      "Thor is charging Mjolnir...\n",
      "Thor is ready!\n",
      "Iron Man is ready!\n",
      "Total preparation time: 3.01 minutes\n"
     ]
    }
   ],
   "source": [
    "import asyncio\n",
    "import time\n",
    "\n",
    "async def suit_up():\n",
    "    print(\"Iron Man is suiting up...\")\n",
    "    await asyncio.sleep(3)\n",
    "    print(\"Iron Man is ready!\")\n",
    "\n",
    "async def charge_hammer():\n",
    "    print(\"Thor is charging Mjolnir...\")\n",
    "    await asyncio.sleep(2)\n",
    "    print(\"Thor is ready!\")\n",
    "\n",
    "async def main():\n",
    "    start = time.time()\n",
    "\n",
    "    # Create tasks (start both immediately)\n",
    "    ironman_task = asyncio.create_task(suit_up())\n",
    "    thor_task = asyncio.create_task(charge_hammer())\n",
    "\n",
    "    # Await both tasks to finish\n",
    "    await ironman_task\n",
    "    await thor_task\n",
    "\n",
    "    end = time.time()\n",
    "    print(f\"Total preparation time: {end - start:.2f} minutes\")\n",
    "\n",
    "if __name__ == \"__main__\":\n",
    "    await main()"
   ]
  }
 ],
 "metadata": {
  "kernelspec": {
   "display_name": "vir_env",
   "language": "python",
   "name": "python3"
  },
  "language_info": {
   "codemirror_mode": {
    "name": "ipython",
    "version": 3
   },
   "file_extension": ".py",
   "mimetype": "text/x-python",
   "name": "python",
   "nbconvert_exporter": "python",
   "pygments_lexer": "ipython3",
   "version": "3.12.10"
  }
 },
 "nbformat": 4,
 "nbformat_minor": 5
}
