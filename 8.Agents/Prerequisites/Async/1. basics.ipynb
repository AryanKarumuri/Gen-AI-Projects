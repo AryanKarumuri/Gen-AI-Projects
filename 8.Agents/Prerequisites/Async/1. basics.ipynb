{
 "cells": [
  {
   "cell_type": "markdown",
   "id": "8c80ba6f",
   "metadata": {},
   "source": [
    "### Async functionality\n",
    "\n",
    "Async functionality in Python is used to write concurrent code — that is, code that can do multiple tasks at once without using multiple threads or processes. This is especially useful for I/O-bound operations, like network requests or file I/O."
   ]
  },
  {
   "cell_type": "markdown",
   "id": "d3e4e8be",
   "metadata": {},
   "source": [
    "#### Core Concepts\n"
   ]
  },
  {
   "cell_type": "markdown",
   "id": "f5f6f7b1",
   "metadata": {},
   "source": [
    "1. `async def`: \n",
    "Defines an asynchronous function (also called a coroutine)."
   ]
  },
  {
   "cell_type": "code",
   "execution_count": 4,
   "id": "213b4ffb",
   "metadata": {},
   "outputs": [],
   "source": [
    "async def fetch_data():\n",
    "    return \"data\""
   ]
  },
  {
   "cell_type": "markdown",
   "id": "d8a031c8",
   "metadata": {},
   "source": [
    "2. `await`: Pauses the coroutine until the awaited coroutine or asynchronous operation is complete."
   ]
  },
  {
   "cell_type": "code",
   "execution_count": 5,
   "id": "25befabc",
   "metadata": {},
   "outputs": [],
   "source": [
    "async def main():\n",
    "    data = await fetch_data()\n",
    "    print(data)"
   ]
  },
  {
   "cell_type": "markdown",
   "id": "fc0c2dab",
   "metadata": {},
   "source": [
    "**Note**: You can only use await inside an async def function."
   ]
  },
  {
   "cell_type": "markdown",
   "id": "34ce0743",
   "metadata": {},
   "source": [
    "3. `asyncio` Module: The built-in asyncio module provides the core loop and tools to run asynchronous code."
   ]
  },
  {
   "cell_type": "code",
   "execution_count": 9,
   "id": "4aa30168",
   "metadata": {},
   "outputs": [
    {
     "name": "stdout",
     "output_type": "stream",
     "text": [
      "data\n"
     ]
    }
   ],
   "source": [
    "import asyncio\n",
    "\n",
    "async def fetch_data():\n",
    "    await asyncio.sleep(1)  # Simulates an I/O delay\n",
    "    return \"data\"\n",
    "\n",
    "async def main():\n",
    "    result = await fetch_data()\n",
    "    print(result)\n",
    "\n",
    "await main()"
   ]
  },
  {
   "cell_type": "markdown",
   "id": "7f86a915",
   "metadata": {},
   "source": [
    "**Note:** For Jupyter environments, we use `await main()` and If you're running this from a .py file, we use `asyncio.run(main())`"
   ]
  },
  {
   "cell_type": "markdown",
   "id": "328acb01",
   "metadata": {},
   "source": [
    "#### 4. Running multiple tasks concurrently"
   ]
  },
  {
   "cell_type": "code",
   "execution_count": 11,
   "id": "9237bddc",
   "metadata": {},
   "outputs": [
    {
     "name": "stdout",
     "output_type": "stream",
     "text": [
      "['Task 1 done', 'Task 2 done', 'Task 3 done']\n"
     ]
    }
   ],
   "source": [
    "import asyncio\n",
    "\n",
    "async def task(n):\n",
    "    await asyncio.sleep(1)\n",
    "    return f\"Task {n} done\"\n",
    "\n",
    "async def main():\n",
    "    results = await asyncio.gather(task(1), task(2), task(3))\n",
    "    print(results)\n",
    "\n",
    "await main()"
   ]
  },
  {
   "cell_type": "markdown",
   "id": "be3dcb27",
   "metadata": {},
   "source": [
    "#### 5. Async Iteration"
   ]
  },
  {
   "cell_type": "code",
   "execution_count": 12,
   "id": "a9bfa698",
   "metadata": {},
   "outputs": [
    {
     "name": "stdout",
     "output_type": "stream",
     "text": [
      "3\n",
      "2\n",
      "1\n"
     ]
    }
   ],
   "source": [
    "async def countdown(n):\n",
    "    while n > 0:\n",
    "        print(n)\n",
    "        await asyncio.sleep(1)\n",
    "        n -= 1\n",
    "\n",
    "async def main():\n",
    "    await countdown(3)\n",
    "\n",
    "await main()"
   ]
  },
  {
   "cell_type": "markdown",
   "id": "eedbf9ba",
   "metadata": {},
   "source": [
    "#### 6. Concurrent HTTP Requests with `aiohttp`"
   ]
  },
  {
   "cell_type": "markdown",
   "id": "e7880b5e",
   "metadata": {},
   "source": [
    "- Make sure to install `aiohttp`: pip install aiohttp"
   ]
  },
  {
   "cell_type": "code",
   "execution_count": 13,
   "id": "10406b45",
   "metadata": {},
   "outputs": [
    {
     "name": "stdout",
     "output_type": "stream",
     "text": [
      "Fetched https://httpbin.org/delay/1 with status 200\n",
      "Fetched https://httpbin.org/delay/2 with status 200\n",
      "Fetched https://httpbin.org/delay/3 with status 200\n",
      "All requests completed.\n"
     ]
    }
   ],
   "source": [
    "import asyncio\n",
    "import aiohttp\n",
    "\n",
    "# List of URLs to fetch\n",
    "urls = [\n",
    "    \"https://httpbin.org/delay/2\",  # Simulates 2-second delay\n",
    "    \"https://httpbin.org/delay/3\",\n",
    "    \"https://httpbin.org/delay/1\",\n",
    "]\n",
    "\n",
    "# Asynchronous function to fetch a URL\n",
    "async def fetch(session, url):\n",
    "    async with session.get(url) as response:\n",
    "        print(f\"Fetched {url} with status {response.status}\")\n",
    "        return await response.text()\n",
    "\n",
    "# Main coroutine to run tasks concurrently\n",
    "async def main():\n",
    "    async with aiohttp.ClientSession() as session:\n",
    "        tasks = [fetch(session, url) for url in urls]\n",
    "        results = await asyncio.gather(*tasks)\n",
    "        print(\"All requests completed.\")\n",
    "\n",
    "# Run the event loop\n",
    "asyncio.run(main())\n"
   ]
  },
  {
   "cell_type": "markdown",
   "id": "beeceaf9",
   "metadata": {},
   "source": [
    "### Subroutine vs Coroutine\n",
    "\n",
    "| Concept       | Subroutine                                   | Coroutine                                     |\n",
    "| ------------- | -------------------------------------------- | --------------------------------------------- |\n",
    "| 🧠 Definition | A regular function that runs start to finish | A function that can pause and resume          |\n",
    "| ▶ Execution   | Runs top to bottom, no interruption          | Can be paused (`await` / `yield`) and resumed |\n",
    "| ↩ Return      | Returns once, via `return`                   | Can yield multiple times                      |\n",
    "| 🔄 Resumable  | ❌ No                                         | ✅ Yes (after `await` or `yield`)              |\n"
   ]
  },
  {
   "cell_type": "markdown",
   "id": "ed5f0995",
   "metadata": {},
   "source": [
    "#### 📌Subroutine (Normal Function Example)"
   ]
  },
  {
   "cell_type": "code",
   "execution_count": 14,
   "id": "44c464f6",
   "metadata": {},
   "outputs": [
    {
     "name": "stdout",
     "output_type": "stream",
     "text": [
      "Hello, Alice\n"
     ]
    }
   ],
   "source": [
    "def greet(name):\n",
    "    return f\"Hello, {name}\"\n",
    "\n",
    "print(greet(\"Alice\"))\n"
   ]
  },
  {
   "cell_type": "markdown",
   "id": "e0f63db1",
   "metadata": {},
   "source": [
    "- Runs start to finish\n",
    "\n",
    "- Returns a value and exits"
   ]
  },
  {
   "cell_type": "markdown",
   "id": "a673779f",
   "metadata": {},
   "source": [
    "#### 📌Coroutine (Async Example)"
   ]
  },
  {
   "cell_type": "code",
   "execution_count": 15,
   "id": "2b704a84",
   "metadata": {},
   "outputs": [
    {
     "name": "stdout",
     "output_type": "stream",
     "text": [
      "Hello, Alice\n"
     ]
    }
   ],
   "source": [
    "import asyncio\n",
    "\n",
    "async def greet(name):\n",
    "    await asyncio.sleep(1)\n",
    "    return f\"Hello, {name}\"\n",
    "\n",
    "async def main():\n",
    "    message = await greet(\"Alice\")\n",
    "    print(message)\n",
    "\n",
    "asyncio.run(main())"
   ]
  },
  {
   "cell_type": "markdown",
   "id": "27d1b404",
   "metadata": {},
   "source": [
    "- `greet` is a coroutine (defined with async def)\n",
    "\n",
    "- It can pause at await asyncio.sleep(1) and resume later. This allows concurrent execution"
   ]
  },
  {
   "cell_type": "markdown",
   "id": "f55b99fd",
   "metadata": {},
   "source": [
    "#### Concurrency vs Parallelism\n",
    "\n",
    "| Concept       | **Concurrency**                           | **Parallelism**                               |\n",
    "| ------------- | ----------------------------------------- | --------------------------------------------- |\n",
    "| 🧠 Idea       | Managing multiple tasks **at once**       | Executing multiple tasks **at the same time** |\n",
    "| 🛠️ How       | Task switching (interleaving)             | Multiple cores/processes run simultaneously   |\n",
    "| 🔀 Looks like | Multitasking (but maybe one at a time)    | True multitasking                             |\n",
    "| 🧵 Threads    | Often uses a single thread (e.g. asyncio) | Requires multiple threads or processes        |\n",
    "| 💻 Hardware   | Can run on **one core**                   | Needs **multiple cores**                      |\n",
    "| ⚡ Example     | Async I/O (e.g. asyncio, `await`)         | CPU-bound tasks with multiprocessing          |\n"
   ]
  },
  {
   "cell_type": "markdown",
   "id": "0897933c",
   "metadata": {},
   "source": [
    "#### 🧠 Real-World Analogy\n",
    "\n",
    "🔄 Concurrency = One Worker Multitasking\n",
    "A chef cooking several dishes by switching tasks — starts boiling water, while it's boiling starts chopping vegetables, and so on. Tasks overlap, but only one is actively worked on at any moment.\n",
    "\n",
    "🚀 Parallelism = Multiple Workers\n",
    "Multiple chefs, each cooking their own dish at the same time, on different stoves."
   ]
  },
  {
   "cell_type": "markdown",
   "id": "42747060",
   "metadata": {},
   "source": [
    "#### When to Use What?\n",
    "\n",
    "| Task Type                   | Use                                      |\n",
    "| --------------------------- | ---------------------------------------- |\n",
    "| I/O-bound (web, file, DB)   | **Concurrency** via `asyncio` or threads |\n",
    "| CPU-bound (math, AI, loops) | **Parallelism** via multiprocessing      |\n"
   ]
  }
 ],
 "metadata": {
  "kernelspec": {
   "display_name": "vir_env",
   "language": "python",
   "name": "python3"
  },
  "language_info": {
   "codemirror_mode": {
    "name": "ipython",
    "version": 3
   },
   "file_extension": ".py",
   "mimetype": "text/x-python",
   "name": "python",
   "nbconvert_exporter": "python",
   "pygments_lexer": "ipython3",
   "version": "3.12.10"
  }
 },
 "nbformat": 4,
 "nbformat_minor": 5
}
