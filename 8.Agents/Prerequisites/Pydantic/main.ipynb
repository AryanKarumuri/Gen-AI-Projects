{
 "cells": [
  {
   "cell_type": "code",
   "execution_count": 1,
   "id": "7dcdc190",
   "metadata": {},
   "outputs": [
    {
     "name": "stdout",
     "output_type": "stream",
     "text": [
      "Python 3.12.10\n"
     ]
    }
   ],
   "source": [
    "!python --version"
   ]
  },
  {
   "cell_type": "markdown",
   "id": "15cf0c65",
   "metadata": {},
   "source": [
    "#### Pydantic Basics:\n",
    "Pydantic models offer a powerful and elegant solution for data validation and parsing in Python. By leveraging standard Python type annotations, Pydantic automatically validates your data at runtime, ensuring consistency and dramatically reducing bugs."
   ]
  },
  {
   "cell_type": "markdown",
   "id": "6d3d96e7",
   "metadata": {},
   "source": [
    "#### Why Pydantic? The Advantages at a Glance\n",
    "\n",
    "Before we dive into code, let's understand why Pydantic has become an indispensable tool for many Python developers:\n",
    "\n",
    "- **Runtime Type Checking**: Catches data errors early, preventing unexpected behavior and difficult-to-debug issues.\n",
    "\n",
    "- **Automatic Data Parsing**: Converts raw input (like JSON or dictionaries) into validated Python objects.\n",
    "\n",
    "- **Clear, Concise Definitions**: Models are defined using standard Python type hints, making them highly readable and maintainable.\n",
    "\n",
    "- **Serialization**: Easily convert models back into dictionaries or JSON.\n",
    "\n",
    "- **Documentation Generation**: Models can serve as self-documenting schemas for your APIs and data structures.\n",
    "\n",
    "- **Integration**: Seamlessly integrates with popular frameworks like FastAPI."
   ]
  },
  {
   "cell_type": "markdown",
   "id": "3ccfc774",
   "metadata": {},
   "source": [
    "### The Foundation: Creating Your First Pydantic Models\n",
    "Pydantic models are Python classes that inherit from `pydantic.BaseModel`. You define the expected data fields as class attributes using standard Python type annotations."
   ]
  },
  {
   "cell_type": "markdown",
   "id": "a248c41c",
   "metadata": {},
   "source": [
    "#### Example-1: Basic example to represent hero data"
   ]
  },
  {
   "cell_type": "code",
   "execution_count": 7,
   "id": "67dc5e9c",
   "metadata": {},
   "outputs": [
    {
     "name": "stdout",
     "output_type": "stream",
     "text": [
      "First Hero details: id=1 name='Superman' gender='M'\n"
     ]
    }
   ],
   "source": [
    "from pydantic import BaseModel, Field\n",
    "from typing import Optional\n",
    "\n",
    "# Basic Model Definition\n",
    "class HeroProfile(BaseModel):\n",
    "    id: int\n",
    "    name: str\n",
    "    gender: str\n",
    "\n",
    "# Creating an instance (validation happens automatically)    \n",
    "try:\n",
    "    hero1 = HeroProfile(id=1, name=\"Superman\", gender=\"M\")\n",
    "    print(f\"First Hero details: {hero1}\")\n",
    "    \n",
    "except Exception as e:\n",
    "    print(f\"\\nError creating invalid user: {e}\")"
   ]
  },
  {
   "cell_type": "code",
   "execution_count": 8,
   "id": "962522f7",
   "metadata": {},
   "outputs": [
    {
     "name": "stdout",
     "output_type": "stream",
     "text": [
      "\n",
      "Error creating invalid user: 1 validation error for HeroProfile\n",
      "id\n",
      "  Input should be a valid integer, unable to parse string as an integer [type=int_parsing, input_value='one', input_type=str]\n",
      "    For further information visit https://errors.pydantic.dev/2.11/v/int_parsing\n"
     ]
    }
   ],
   "source": [
    "# Attempting to create an invalid instance (will raise ValidationError)\n",
    "try:\n",
    "    hero1 = HeroProfile(id=\"one\", name=\"Superman\", gender=\"M\")\n",
    "    print(f\"First Hero details: {hero1}\")\n",
    "    \n",
    "except Exception as e:\n",
    "    print(f\"\\nError creating invalid user: {e}\")"
   ]
  },
  {
   "cell_type": "markdown",
   "id": "cd4a5fb1",
   "metadata": {},
   "source": [
    "#### Example-2: Adding Optional Fields and Default Values\n",
    "Not all fields are always required. Pydantic handles this gracefully using typing.Optional and default values."
   ]
  },
  {
   "cell_type": "code",
   "execution_count": 11,
   "id": "bb82265b",
   "metadata": {},
   "outputs": [
    {
     "name": "stdout",
     "output_type": "stream",
     "text": [
      "First Hero details: id=1 name='Superman' gender='M' description=None in_action=True\n",
      "First Hero details: id=2 name='Batman' gender='M' description='Hero of Gotham city' in_action=True\n"
     ]
    }
   ],
   "source": [
    "from pydantic import BaseModel\n",
    "from typing import Optional\n",
    "\n",
    "# Basic Model Definition\n",
    "class HeroProfile(BaseModel):\n",
    "    id: int\n",
    "    name: str\n",
    "    gender: str\n",
    "    description: Optional[str] = None # Optional field with a default of None\n",
    "    in_action: bool = True           # Field with a default value\n",
    "\n",
    "# Creating an instance (validation happens automatically)    \n",
    "try:\n",
    "    hero1 = HeroProfile(id=1, name=\"Superman\", gender=\"M\")\n",
    "    print(f\"First Hero details: {hero1}\")\n",
    "    \n",
    "    hero2 = HeroProfile(id=2, name=\"Batman\", gender=\"M\", description=\"Hero of Gotham city\")\n",
    "    print(f\"First Hero details: {hero2}\")\n",
    "    \n",
    "except Exception as e:\n",
    "    print(f\"\\nError creating invalid user: {e}\")"
   ]
  },
  {
   "cell_type": "markdown",
   "id": "6924cb29",
   "metadata": {},
   "source": [
    "Explanation:\n",
    "\n",
    "- description: Optional[str] = None: This field can be a str or None. If not provided during instantiation, it defaults to None.\n",
    "\n",
    "- in_stock: bool = True: This field is a bool and defaults to True if not explicitly provided.\n",
    "\n",
    "- Pydantic validates types even for optional fields when values are provided"
   ]
  },
  {
   "cell_type": "markdown",
   "id": "c79decbc",
   "metadata": {},
   "source": [
    "#### Example-3: Nested Models and Complex Structures\n",
    "Pydantic excels at defining complex, nested data structures."
   ]
  },
  {
   "cell_type": "code",
   "execution_count": 12,
   "id": "d81a13f2",
   "metadata": {},
   "outputs": [
    {
     "name": "stdout",
     "output_type": "stream",
     "text": [
      "\n",
      "Company Data: {\n",
      "  \"name\": \"Tony Starc\",\n",
      "  \"website\": \"https://www.tonystarc.com/\",\n",
      "  \"employees\": [\n",
      "    \"Alice\",\n",
      "    \"Bob\",\n",
      "    \"Charlie\"\n",
      "  ],\n",
      "  \"headquarters\": {\n",
      "    \"street\": \"123 Main St\",\n",
      "    \"city\": \"Innoville\",\n",
      "    \"zip_code\": \"90210\",\n",
      "    \"country\": \"USA\"\n",
      "  },\n",
      "  \"departments\": {\n",
      "    \"Engineering\": [\n",
      "      \"Alice\",\n",
      "      \"David\"\n",
      "    ],\n",
      "    \"Marketing\": [\n",
      "      \"Eve\"\n",
      "    ]\n",
      "  }\n",
      "}\n"
     ]
    }
   ],
   "source": [
    "from pydantic import BaseModel, HttpUrl # HttpUrl for URL validation\n",
    "from typing import List, Dict\n",
    "\n",
    "class Address(BaseModel):\n",
    "    street: str\n",
    "    city: str\n",
    "    zip_code: str\n",
    "    country: str\n",
    "\n",
    "class Company(BaseModel):\n",
    "    name: str\n",
    "    website: HttpUrl # Pydantic validates this as a valid URL\n",
    "    employees: List[str]\n",
    "    headquarters: Address # Nested Pydantic model\n",
    "    departments: Dict[str, List[str]] # Dictionary with string keys and list of strings values\n",
    "\n",
    "# Creating an instance of the Company model\n",
    "try:\n",
    "    company_data = {\n",
    "        \"name\": \"Tony Starc\",\n",
    "        \"website\": \"https://www.tonystarc.com\",\n",
    "        \"employees\": [\"Alice\", \"Bob\", \"Charlie\"],\n",
    "        \"headquarters\": {\n",
    "            \"street\": \"123 Main St\",\n",
    "            \"city\": \"Innoville\",\n",
    "            \"zip_code\": \"90210\",\n",
    "            \"country\": \"USA\"\n",
    "        },\n",
    "        \"departments\": {\n",
    "            \"Engineering\": [\"Alice\", \"David\"],\n",
    "            \"Marketing\": [\"Eve\"]\n",
    "        }\n",
    "    }\n",
    "\n",
    "    company = Company(**company_data) # Using ** to unpack dictionary\n",
    "    print(f\"\\nCompany Data: {company.model_dump_json(indent=2)}\")\n",
    "\n",
    "    # Attempting to create an invalid URL\n",
    "    # invalid_company = Company(\n",
    "    #     name=\"Bad Site Co.\",\n",
    "    #     website=\"not-a-url\", # This will fail\n",
    "    #     employees=[],\n",
    "    #     headquarters=company_data[\"headquarters\"],\n",
    "    #     departments={}\n",
    "    # )\n",
    "\n",
    "except Exception as e:\n",
    "    print(f\"\\nError creating invalid company: {e}\")\n",
    "    # Output will show a validation error for 'website'"
   ]
  },
  {
   "cell_type": "markdown",
   "id": "bff80df1",
   "metadata": {},
   "source": [
    "Explanation:\n",
    "\n",
    "- We define an `Address` model and then use it as a type annotation for `headquarters` within the Company model.\n",
    "\n",
    "- `HttpUrl` is a Pydantic-specific type that provides robust URL validation.\n",
    "\n",
    "- `List[str]` and `Dict[str, List[str]]` demonstrate how to define lists and dictionaries with specific item types."
   ]
  },
  {
   "cell_type": "markdown",
   "id": "1a3d729f",
   "metadata": {},
   "source": [
    "#### Example-4: Customization and Constraints\n",
    "The Field function in Pydantic enhances model fields beyond basic type hints by allowing you to specify validation rules, default values, aliases, and more. Here's a comprehensive tutorial with examples."
   ]
  },
  {
   "cell_type": "code",
   "execution_count": 13,
   "id": "80d84ad6",
   "metadata": {},
   "outputs": [
    {
     "name": "stdout",
     "output_type": "stream",
     "text": [
      "name='Book' price=10.0 quantity=10\n"
     ]
    }
   ],
   "source": [
    "from pydantic import BaseModel,Field\n",
    "class Item(BaseModel):\n",
    "    name:str=Field(min_length=2,max_length=50)\n",
    "    price:float= Field(gt=0,le=1000) #greater than 0, less than or equal to 1000\n",
    "    quantity:int=Field(ge=0)\n",
    "\n",
    "# Valid instance\n",
    "item = Item(name=\"Book\", price=10, quantity=10)\n",
    "\n",
    "print(item)"
   ]
  },
  {
   "cell_type": "code",
   "execution_count": 14,
   "id": "de2b2931",
   "metadata": {},
   "outputs": [
    {
     "name": "stdout",
     "output_type": "stream",
     "text": [
      "username='alice' age=18 email='user@example.com'\n",
      "username='bob' age=25 email='bob@domain.com'\n"
     ]
    }
   ],
   "source": [
    "from pydantic import BaseModel, Field\n",
    "\n",
    "class User(BaseModel):\n",
    "    username: str = Field(..., description=\"Unique username for the user\")\n",
    "    age: int = Field(default=18, description=\"User age, defaults to 18\")\n",
    "    email: str = Field(default_factory=lambda: \"user@example.com\", description=\"Default email address\")\n",
    "\n",
    "# Examples\n",
    "user1 = User(username=\"alice\")\n",
    "print(user1)  # username='alice' age=18 email='user@example.com'\n",
    "\n",
    "user2 = User(username=\"bob\", age=25, email=\"bob@domain.com\")\n",
    "print(user2)  # username='bob' age=25 email='bob@domain.com'"
   ]
  },
  {
   "cell_type": "markdown",
   "id": "4317f521",
   "metadata": {},
   "source": [
    "#### Key Concepts and Best Practices\n",
    "\n",
    "- **BaseModel**: The base class for all Pydantic models.\n",
    "\n",
    "- **Type Annotations**: Crucial for defining the expected data types for each field.\n",
    "\n",
    "- **Runtime Validation**: Pydantic automatically validates data upon instance creation.\n",
    "\n",
    "- **ValidationError**: The specific exception raised when validation fails. Always be prepared to catch it.\n",
    "\n",
    "- **model_dump() / model_dump_json() (Pydantic v2+) or dict() / json() (Pydantic v1)**: Methods to convert a model instance back into a dictionary or JSON string, respectively.\n",
    "\n",
    "- **Immutability** (by default): Model instances are immutable by default in Pydantic v2, which can be configured. In v1, they are mutable. Be aware of your Pydantic version.\n",
    "\n",
    "- **Field Function**: For more advanced validation rules, aliases, and metadata (e.g., Field(..., min_length=5, max_length=20)). We will explore this in more advanced topics."
   ]
  }
 ],
 "metadata": {
  "kernelspec": {
   "display_name": "vir_env",
   "language": "python",
   "name": "python3"
  },
  "language_info": {
   "codemirror_mode": {
    "name": "ipython",
    "version": 3
   },
   "file_extension": ".py",
   "mimetype": "text/x-python",
   "name": "python",
   "nbconvert_exporter": "python",
   "pygments_lexer": "ipython3",
   "version": "3.12.10"
  }
 },
 "nbformat": 4,
 "nbformat_minor": 5
}
