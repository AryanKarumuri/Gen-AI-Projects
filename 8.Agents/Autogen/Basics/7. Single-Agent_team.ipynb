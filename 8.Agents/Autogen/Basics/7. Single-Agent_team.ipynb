{
 "cells": [
  {
   "cell_type": "markdown",
   "id": "d3311733",
   "metadata": {},
   "source": [
    "### Single-Agent Team\n",
    "\n",
    "- Designed for scenarios where a single agent can perform all operations, yet requires the orchestration and control of a multi-agent system."
   ]
  },
  {
   "cell_type": "markdown",
   "id": "f439c8c6",
   "metadata": {},
   "source": [
    "## Single-Agent Team vs. Plain Single Agent\n",
    "\n",
    "| **Aspect**           | **Single-Agent Team**                                       | **Plain Single Agent**                           |\n",
    "|----------------------|-------------------------------------------------------------|--------------------------------------------------|\n",
    "| **Termination**      | Controlled via named conditions  | Runs until task completion                      |\n",
    "| **Observability**    | Supports live observers via Console                         | Manual logging only                             |\n",
    "| **Flexibility**      | Easily extendable to multi-agent setups                     | Fixed to a single-agent configuration           |\n",
    "| **Error Handling**   | Centralized and coordinated across the team structure       | Handled individually within the agent           |\n",
    "| **Control**          | Simulates team-like orchestration, even for one agent       | Direct, linear control flow                     |\n",
    "| **Scalability**      | Plug-and-play: add more agents without rearchitecting       | Scaling requires redesign or rewrite            |\n"
   ]
  },
  {
   "cell_type": "code",
   "execution_count": 2,
   "id": "8712466e",
   "metadata": {},
   "outputs": [],
   "source": [
    "import os\n",
    "from dotenv import load_dotenv\n",
    "from autogen_agentchat.agents import AssistantAgent\n",
    "from autogen_ext.models.openai import OpenAIChatCompletionClient\n",
    "from autogen_agentchat.messages import TextMessage\n",
    "from autogen_agentchat.teams import RoundRobinGroupChat\n",
    "from autogen_agentchat.conditions import TextMentionTermination\n",
    "\n",
    "\n",
    "load_dotenv()\n",
    "api_key = os.getenv('GEMINI_API_KEY')\n",
    "model_client = OpenAIChatCompletionClient(model='gemini-2.5-flash', api_key=api_key)"
   ]
  },
  {
   "cell_type": "code",
   "execution_count": 3,
   "id": "8018691e",
   "metadata": {},
   "outputs": [],
   "source": [
    "story_writer = AssistantAgent(\n",
    "    name = 'story_generator',\n",
    "    model_client=model_client,\n",
    "    system_message=\"You are story writer who writes stories on superheros vs demons. Write a short story that ends with 'peace'. \"\n",
    ")\n",
    "\n",
    "termination = TextMentionTermination('peace')\n",
    "\n",
    "team = RoundRobinGroupChat(\n",
    "    participants=[story_writer],\n",
    "    termination_condition=termination\n",
    ")"
   ]
  },
  {
   "cell_type": "code",
   "execution_count": 4,
   "id": "e82f77d3",
   "metadata": {},
   "outputs": [
    {
     "name": "stdout",
     "output_type": "stream",
     "text": [
      "user: Write a short story on Hero\n",
      "story_generator: Aether, the Radiant Fist, was a living beacon. His skin shimmered with a soft, inner luminescence, his every movement trailing whispers of starlight. He was the protector of worlds, the last line of defense against the encroaching shadows. For eons, he had battled the Abyssal Hosts – ravenous, formless demons that devoured light, hope, and life itself, leaving only a cold, echoing void.\n",
      "\n",
      "Today, Earth was the battleground. Cities lay shattered, their steel bones twisted into grotesque monuments to fear. The sky, once a vibrant blue, pulsed with sickly greens and purples, a canopy woven from demonic corruption. Aether moved like a hurricane of pure energy, his fists shattering chitinous armor, his voice a resonating thunder that tore through the very fabric of the demons' being.\n",
      "\n",
      "He fought for days that bled into nights, his light dimming with each soul lost, each scream echoed in the desolate ruins. He incinerated legions, cleaved through monstrous generals, but for every hundred banished, a thousand more writhed from the deepening cracks in reality. He saw the sheer, unyielding hunger in their multi-faceted eyes, an ancient emptiness that drove them to consume all existence. He was a force of nature, yet even nature could be overwhelmed. Aether felt the gnawing chill of despair, a sensation alien to his luminous core. He was winning battles, but losing the war of attrition, the war for the very spirit of the world.\n",
      "\n",
      "As a colossal, shadow-wreathed titan, a 'Lord of Nullity,' prepared to crush the last desperate human sanctuary, Aether intercepted it, clashing with the force of a supernova. Their powers collided, light and void ripping the air apart. But as their energies locked, something shifted within Aether. He didn't just see malice in the demon lord's churning form; he felt an echoing, bottomless *ache*. The Abyssal Hosts weren't just evil; they were *starved*, ancient beings born from the primordial void before creation, a void that screamed for substance. They consumed because they were utterly, eternally empty.\n",
      "\n",
      "Dropping his shimmering shield, Aether let his light flow, not as a weapon, but as a boundless current of understanding. He reached out, not to strike, but to *touch* the core of the Lord of Nullity’s being, to pour his essence, his very understanding of creation, not into fighting, but into *filling* that ancient void. It was terrifying, an act of vulnerability that could lead to his own annihilation.\n",
      "\n",
      "The demon lord shrieked, not in pain, but in a sound of profound, guttural release – a sound of primordial yearning finally met. The shadows around it didn't dissipate; they softened. Its form writhed, not in aggression, but in a profound transformation. The all-consuming hunger lessened, replaced by a quiet, resonant hum. The other Abyssal Hosts, witnessing their lord’s transformation, also stilled. They didn't vanish, nor were they destroyed. The void within them began to fill, not with light, but with an echo of harmony, a gentle, cosmic *belonging*.\n",
      "\n",
      "The war did not end in a final explosion, but in a profound silence. The corrupted sky slowly bled back to blue. The surviving humans emerged, not to cheering, but to a quiet awe. Aether stood amidst the once-demons, now quiescent, their forms no longer predatory, but simply *present*. The world, though scarred, began to hum with a fragile new song, a quiet assurance. Humanity, having witnessed the transformation of their terror, began to heal, their fear replaced by a burgeoning understanding. And in that quiet, humbled dawn, the world finally knew a profound, unspoken...\n",
      "\n",
      "peace.\n"
     ]
    }
   ],
   "source": [
    "async def test_single_agent():\n",
    "    task = TextMessage(content=\"Write a short story on Hero\",source='user')\n",
    "    result = await team.run(task = task)\n",
    "    for message in result.messages:\n",
    "        print(f\"{message.source}: {message.content}\")\n",
    "\n",
    "\n",
    "await test_single_agent() "
   ]
  },
  {
   "cell_type": "markdown",
   "id": "89f59e0d",
   "metadata": {},
   "source": [
    "**Fact Check:** The story end with the word \"peace\"."
   ]
  }
 ],
 "metadata": {
  "kernelspec": {
   "display_name": "vir_env",
   "language": "python",
   "name": "python3"
  },
  "language_info": {
   "codemirror_mode": {
    "name": "ipython",
    "version": 3
   },
   "file_extension": ".py",
   "mimetype": "text/x-python",
   "name": "python",
   "nbconvert_exporter": "python",
   "pygments_lexer": "ipython3",
   "version": "3.12.10"
  }
 },
 "nbformat": 4,
 "nbformat_minor": 5
}
