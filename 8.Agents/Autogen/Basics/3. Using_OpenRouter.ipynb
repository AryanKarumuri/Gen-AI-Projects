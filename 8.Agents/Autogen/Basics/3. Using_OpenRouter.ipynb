{
 "cells": [
  {
   "cell_type": "markdown",
   "id": "23ba0aa4",
   "metadata": {},
   "source": [
    "#### What is OpenRouter?\n",
    "OpenRouter is essentially a model routing API that lets developers and users interact with multiple LLMs (like OpenAI, Anthropic, Mistral, Meta’s LLaMA, and others) using a common interface — often compatible with OpenAI’s API format.\n",
    "\n",
    "This makes it easier to:\n",
    "\n",
    "- Test and compare different models.\n",
    "\n",
    "- Use models from various companies without managing separate APIs.\n",
    "\n",
    "- Optimize costs or performance by routing traffic intelligently."
   ]
  },
  {
   "cell_type": "markdown",
   "id": "11748e2c",
   "metadata": {},
   "source": [
    "#### Key Features\n",
    "- Multi-Model Access: You can choose from a wide range of models including GPT-4, Claude, Mixtral, LLaMA, and many more.\n",
    "\n",
    "- OpenAI-Compatible API: Most endpoints mimic OpenAI's API, allowing easy integration with existing tools or code.\n",
    "\n",
    "- Pay-As-You-Go or Bring-Your-Own-Key: Some models can be used via OpenRouter's billing, while others allow you to use your own API keys.\n",
    "\n",
    "- Web Playground: A web-based UI where you can chat with different models directly for experimentation.\n",
    "\n",
    "- Routing Logic: Developers can build logic to route prompts to the most appropriate model based on cost, speed, or performance."
   ]
  },
  {
   "cell_type": "markdown",
   "id": "ab0ba24a",
   "metadata": {},
   "source": [
    "#### Use Cases\n",
    "- Comparing responses from multiple LLMs for quality and tone.\n",
    "\n",
    "- Optimizing inference costs by switching to cheaper models for simpler tasks.\n",
    "\n",
    "- Building model-agnostic AI applications.\n",
    "\n",
    "- Academic research or LLM benchmarking."
   ]
  },
  {
   "cell_type": "code",
   "execution_count": 2,
   "id": "5c3a5fe5",
   "metadata": {},
   "outputs": [
    {
     "name": "stdout",
     "output_type": "stream",
     "text": [
      "[TextMessage(id='9824a250-f033-4295-a6de-e98bdb4faede', source='user', models_usage=None, metadata={}, created_at=datetime.datetime(2025, 7, 21, 6, 15, 39, 779828, tzinfo=datetime.timezone.utc), content='Tell me about Agentic AI', type='TextMessage'), TextMessage(id='6b478ec5-dbeb-4fdd-9c20-c0b908595fba', source='helpful_agent', models_usage=RequestUsage(prompt_tokens=18, completion_tokens=1070), metadata={}, created_at=datetime.datetime(2025, 7, 21, 6, 16, 19, 176195, tzinfo=datetime.timezone.utc), content='**Agentic AI** refers to artificial intelligence systems designed to act autonomously as \"agents\" – perceiving their environment, making decisions, and taking actions to achieve specific goals **without constant human intervention**. This contrasts with passive AI tools (e.g., chatbots that only respond to prompts). Agentic AI aims to mimic human-like agency, learning, and adaptability in dynamic contexts.  \\n\\n### Key Characteristics:\\n1. **Autonomy**:  \\n   - Operates independently once deployed, using sensors or data inputs to perceive the world.  \\n   - Example: A warehouse robot navigating obstacles to organize inventory.  \\n\\n2. **Goal-Oriented Behavior**:  \\n   - Works toward objectives like \"schedule meetings optimally\" or \"maximize energy efficiency in a building.\"  \\n   - Uses planning algorithms to break down tasks and adapt to changes.  \\n\\n3. **Proactivity & Adaptability**:  \\n   - Takes initiative (e.g., an AI finance agent rebalancing portfolios based on market shifts).  \\n   - Learns from feedback and adjusts strategies over time via **reinforcement learning**.  \\n\\n4. **Interaction Capabilities**:  \\n   - Communicates with humans, devices, or other AI agents (e.g., a smart-home system coordinating appliances).  \\n\\n### How It Works:  \\nAgentic AI systems often combine:  \\n- **Sensors/Data Inputs**: Cameras, APIs, or user commands.  \\n- **Decision Engines**: LLMs, neural networks, or rule-based logic for reasoning.  \\n- **Actuators**: Output mechanisms like robotic limbs, API calls, or notifications.  \\n\\n### Applications:  \\n| **Domain**         | **Examples**                                      |  \\n|--------------------|--------------------------------------------------|  \\n| **Healthcare**     | Autonomous surgical robots; patient monitoring agents. |  \\n| **Transportation** | Self-driving cars; drone delivery systems.         |  \\n| **Business**       | Supply-chain optimizers; AI project managers.       |  \\n| **Daily Life**     | Personal assistant agents (e.g., scheduling, smart homes). |  \\n\\n### Benefits & Challenges:  \\n- ✅ **Pros**: Efficiency, scalability, 24/7 operation, handling complex tasks.  \\n- ⚠️ **Cons**: Safety risks (e.g., unpredictable actions), ethical concerns (bias, accountability), and technical limitations (e.g., reliability in novel scenarios).  \\n\\n### Future Outlook:  \\nAgentic AI is advancing rapidly with **Large Action Models (LAMs)** and **embodied AI** (agents in physical/digital worlds). Debates focus on **alignment** (ensuring goals match human values) and **regulation** (e.g., the EU AI Act).  \\n\\nCurious about a specific aspect? Ask about ethics, real-world examples, or technical foundations! 🤖', type='TextMessage')]\n"
     ]
    }
   ],
   "source": [
    "import os\n",
    "import asyncio\n",
    "from dotenv import load_dotenv\n",
    "from autogen_agentchat.agents import AssistantAgent\n",
    "from autogen_ext.models.openai import OpenAIChatCompletionClient\n",
    "\n",
    "load_dotenv()\n",
    "\n",
    "api_key = os.getenv('OPEN_ROUTER_API_KEY')\n",
    "\n",
    "\n",
    "open_router_model_client =  OpenAIChatCompletionClient(\n",
    "    base_url=\"https://openrouter.ai/api/v1\",\n",
    "    model=\"deepseek/deepseek-r1-0528:free\",\n",
    "    api_key = api_key,\n",
    "    model_info={\n",
    "        \"family\":'deepseek',\n",
    "        \"vision\" :True,\n",
    "        \"function_calling\":True,\n",
    "        \"json_output\": False\n",
    "    }\n",
    ")\n",
    "\n",
    "assistant_agent1 = AssistantAgent(\n",
    "    name = 'helpful_agent',\n",
    "    model_client = open_router_model_client,\n",
    "    system_message='You are a helpful assistant Agent'\n",
    ")\n",
    "\n",
    "result = await assistant_agent1.run(task = 'Tell me about Agentic AI')\n",
    "print(result.messages)"
   ]
  },
  {
   "cell_type": "code",
   "execution_count": 3,
   "id": "6acb8e27",
   "metadata": {},
   "outputs": [
    {
     "data": {
      "text/plain": [
       "'**Agentic AI** refers to artificial intelligence systems designed to act autonomously as \"agents\" – perceiving their environment, making decisions, and taking actions to achieve specific goals **without constant human intervention**. This contrasts with passive AI tools (e.g., chatbots that only respond to prompts). Agentic AI aims to mimic human-like agency, learning, and adaptability in dynamic contexts.  \\n\\n### Key Characteristics:\\n1. **Autonomy**:  \\n   - Operates independently once deployed, using sensors or data inputs to perceive the world.  \\n   - Example: A warehouse robot navigating obstacles to organize inventory.  \\n\\n2. **Goal-Oriented Behavior**:  \\n   - Works toward objectives like \"schedule meetings optimally\" or \"maximize energy efficiency in a building.\"  \\n   - Uses planning algorithms to break down tasks and adapt to changes.  \\n\\n3. **Proactivity & Adaptability**:  \\n   - Takes initiative (e.g., an AI finance agent rebalancing portfolios based on market shifts).  \\n   - Learns from feedback and adjusts strategies over time via **reinforcement learning**.  \\n\\n4. **Interaction Capabilities**:  \\n   - Communicates with humans, devices, or other AI agents (e.g., a smart-home system coordinating appliances).  \\n\\n### How It Works:  \\nAgentic AI systems often combine:  \\n- **Sensors/Data Inputs**: Cameras, APIs, or user commands.  \\n- **Decision Engines**: LLMs, neural networks, or rule-based logic for reasoning.  \\n- **Actuators**: Output mechanisms like robotic limbs, API calls, or notifications.  \\n\\n### Applications:  \\n| **Domain**         | **Examples**                                      |  \\n|--------------------|--------------------------------------------------|  \\n| **Healthcare**     | Autonomous surgical robots; patient monitoring agents. |  \\n| **Transportation** | Self-driving cars; drone delivery systems.         |  \\n| **Business**       | Supply-chain optimizers; AI project managers.       |  \\n| **Daily Life**     | Personal assistant agents (e.g., scheduling, smart homes). |  \\n\\n### Benefits & Challenges:  \\n- ✅ **Pros**: Efficiency, scalability, 24/7 operation, handling complex tasks.  \\n- ⚠️ **Cons**: Safety risks (e.g., unpredictable actions), ethical concerns (bias, accountability), and technical limitations (e.g., reliability in novel scenarios).  \\n\\n### Future Outlook:  \\nAgentic AI is advancing rapidly with **Large Action Models (LAMs)** and **embodied AI** (agents in physical/digital worlds). Debates focus on **alignment** (ensuring goals match human values) and **regulation** (e.g., the EU AI Act).  \\n\\nCurious about a specific aspect? Ask about ethics, real-world examples, or technical foundations! 🤖'"
      ]
     },
     "execution_count": 3,
     "metadata": {},
     "output_type": "execute_result"
    }
   ],
   "source": [
    "result.messages[-1].content"
   ]
  }
 ],
 "metadata": {
  "kernelspec": {
   "display_name": "vir_env",
   "language": "python",
   "name": "python3"
  },
  "language_info": {
   "codemirror_mode": {
    "name": "ipython",
    "version": 3
   },
   "file_extension": ".py",
   "mimetype": "text/x-python",
   "name": "python",
   "nbconvert_exporter": "python",
   "pygments_lexer": "ipython3",
   "version": "3.12.10"
  }
 },
 "nbformat": 4,
 "nbformat_minor": 5
}
