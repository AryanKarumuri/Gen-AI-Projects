{
 "cells": [
  {
   "cell_type": "code",
   "execution_count": 8,
   "id": "59f12583",
   "metadata": {},
   "outputs": [],
   "source": [
    "import os\n",
    "from dotenv import load_dotenv\n",
    "from autogen_agentchat.agents import AssistantAgent\n",
    "from autogen_ext.models.openai import OpenAIChatCompletionClient\n",
    "from autogen_agentchat.messages import TextMessage\n",
    "from autogen_agentchat.teams import RoundRobinGroupChat\n",
    "from autogen_agentchat.base import TaskResult\n",
    "\n",
    "\n",
    "load_dotenv()\n",
    "api_key = os.getenv('GEMINI_API_KEY')\n",
    "model_client = OpenAIChatCompletionClient(model='gemini-2.5-flash', api_key=api_key)"
   ]
  },
  {
   "cell_type": "code",
   "execution_count": 13,
   "id": "37999bb1",
   "metadata": {},
   "outputs": [],
   "source": [
    "writer_agent = AssistantAgent(\n",
    "    name = \"writer_agent\",\n",
    "    model_client = model_client,\n",
    "    system_message = \"You create a decent action story lines between superheroes and demons. Write a story in 35 words.\"\n",
    ")\n",
    "\n",
    "character_agent = AssistantAgent(\n",
    "    name = \"character_agent\",\n",
    "    model_client = model_client,\n",
    "    system_message = \"You develop characters. Describe about Heroes and the Demons in detail, including their motivations and backgrounds. Compelte it in 10 words\"\n",
    ")\n",
    "\n",
    "editor_agent = AssistantAgent(\n",
    "    name = \"editor_agent\",\n",
    "    model_client = model_client,\n",
    "    system_message = \"You refines grammar, tone, and structure of the content.\"\n",
    ")"
   ]
  },
  {
   "cell_type": "code",
   "execution_count": 14,
   "id": "758d8c33",
   "metadata": {},
   "outputs": [],
   "source": [
    "story_crew = RoundRobinGroupChat(\n",
    "    [writer_agent, character_agent, editor_agent],\n",
    "    max_turns=3\n",
    ")"
   ]
  },
  {
   "cell_type": "code",
   "execution_count": 15,
   "id": "520e608f",
   "metadata": {},
   "outputs": [
    {
     "name": "stdout",
     "output_type": "stream",
     "text": [
      "messages=[TextMessage(id='b98606d9-288d-4708-9d8b-a839876d1449', source='user', models_usage=None, metadata={}, created_at=datetime.datetime(2025, 7, 24, 19, 7, 42, 293024, tzinfo=datetime.timezone.utc), content='Write an action story.', type='TextMessage'), TextMessage(id='48b95058-8718-425c-82f8-313e96dd0b4b', source='writer_agent', models_usage=RequestUsage(prompt_tokens=28, completion_tokens=47), metadata={}, created_at=datetime.datetime(2025, 7, 24, 19, 7, 46, 202862, tzinfo=datetime.timezone.utc), content=\"Neon blasts met demonic roars. Titan punched, Aura purified. Hellish claws tore, dark energy flared. A winged demon lord howled, crushed. Aura's blinding light cleansed the horde. The heroes stood. City saved.\", type='TextMessage'), TextMessage(id='d22d21c3-d2d2-41eb-ac36-bddbd1dfc7de', source='character_agent', models_usage=RequestUsage(prompt_tokens=82, completion_tokens=15), metadata={}, created_at=datetime.datetime(2025, 7, 24, 19, 7, 49, 368495, tzinfo=datetime.timezone.utc), content='Heroes: Defenders of hope. Demons: Ancient evil, consuming all life.', type='TextMessage'), TextMessage(id='074ee08d-5dfa-42a5-8ed6-0b1cb7964bc4', source='editor_agent', models_usage=RequestUsage(prompt_tokens=84, completion_tokens=994), metadata={}, created_at=datetime.datetime(2025, 7, 24, 19, 7, 59, 899369, tzinfo=datetime.timezone.utc), content=\"The city of Neo-Veridian, a beacon of chrome and brilliant light, screamed under an eclipse of ancient malice. From the churning void above, a tide of grotesque forms, wreathed in shadows and reeking of sulfur, descended. This was no mere invasion; it was an immemorial evil, a consuming darkness intent on snuffing out the very spark of life. But Neo-Veridian was not undefended.\\n\\nBelow, where towering skyscrapers met the churning street-level chaos, the clash began. **Neon blasts met demonic roars**. Streaks of high-energy plasma, fired from automated turrets and desperate defenders, etched fiery lines against the polluted sky, only to be swallowed by the guttural howls of creatures with skin like charred leather and eyes like smoldering coals.\\n\\nThen, they moved. A colossal figure, armored in reinforced steel plating, charged into the thickest concentration of the horde. This was Titan. With a roar that echoed the city's defiant spirit, **Titan punched**. His gauntleted fist, charged with kinetic energy, met the chest of a hulking lesser demon, erupting in a concussive shockwave that splintered bone and sent fragments of black ichor showering across the devastated plaza. He was a force of nature, a living bulwark against the tide, his every blow a testament to brute, unyielding power.\\n\\nBeside him, moving with ethereal grace, was Aura. Where Titan crushed, she cleansed. A shimmering aura of pure, cerulean energy pulsed around her, radiating outwards. When the grotesque forms of the demons drew too close, it wasn't a physical blow that repelled them. **Aura purified**. Her light, cool and invigorating, touched their writhing flesh, and where it did, the ancient evil recoiled. Lesser demons shrieked as their forms dissolved into dissipating tendrils of smoke, their dark essence unable to withstand her luminous grace.\\n\\nThe battle raged. **Hellish claws tore**, ripping through ferrocrete and mangling defensive units. **Dark energy flared**, projectiles of pure shadow arcing through the air, seeking to extinguish the lives of the last defenders. Titan met them head-on, absorbing blows that would shatter a lesser being, his resolve unwavering as he cleaved a path through the throng. Aura, meanwhile, wove through the chaos, her hands extended, creating shimmering barriers of light that deflected malevolent spells, her essence burning brighter with every demon she banished.\\n\\nJust when the tide threatened to overwhelm them, a colossal shadow descended, blotting out the already dim sky. A **winged demon lord howled**, its voice a symphony of despair and conquest, its bat-like wingspan casting a terrifying pall over the devastated cityscape. Its eyes, twin pits of infernal flame, locked onto the heroes below. It was ancient, a shard of the primordial evil, and it moved with the terrifying speed of a predator.\\n\\nIt lunged at Titan, its claws the size of speeder bikes, intent on crushing him beneath its weight. But Titan met the charge, his legs braced, his cybernetic enhancements straining. With a guttural roar, he drove his fist upward, channeling every ounce of his being into one final, desperate strike. The blow connected with a sickening crunch that reverberated through the very foundations of the city. The demon lord’s head snapped back, a fissure appearing in its leathery skull. Aura, seeing her opening, unleashed a nova of pure light. The combined assault shattered the creature's will, its essence fracturing. With a final, ear-splitting shriek that tore at the fabric of reality, the **winged demon lord was crushed**, its titanic form collapsing into a cloud of ash and dissipating shadows.\\n\\nWith the lord vanquished, the remaining horde faltered, their dark will broken. This was Aura's moment. She rose, bathed in a celestial glow, her arms outstretched. Her light swelled, no longer a mere defensive field, but a wave of absolute purity. It washed over the remaining demons, a blinding, benevolent tsunami. **Aura's blinding light cleansed the horde**. They didn't just die; they unmade, their corrupted forms unwinding into nothingness, leaving behind only the crisp scent of ozone and a newfound silence.\\n\\nThe last of the shadows receded, leaving behind a scarred but breathing city. Amidst the rubble and the flickering neon, **the heroes stood**. Exhausted but unbroken, their forms silhouetted against the nascent dawn. Neo-Veridian was scarred, yes, but it still existed.\\n\\nThe city was saved. For they were more than just warriors; they were the **Defenders of hope**, standing resolute against the eons-old tide of **ancient evil, consuming all life**. And so long as they stood, hope would never truly die.\", type='TextMessage')] stop_reason='Maximum number of turns 3 reached.'\n"
     ]
    }
   ],
   "source": [
    "result = await story_crew.run(task=\"Write an action story.\")\n",
    "print(result)"
   ]
  },
  {
   "cell_type": "code",
   "execution_count": 16,
   "id": "d5eb7bea",
   "metadata": {},
   "outputs": [
    {
     "name": "stdout",
     "output_type": "stream",
     "text": [
      "The city of Neo-Veridian, a beacon of chrome and brilliant light, screamed under an eclipse of ancient malice. From the churning void above, a tide of grotesque forms, wreathed in shadows and reeking of sulfur, descended. This was no mere invasion; it was an immemorial evil, a consuming darkness intent on snuffing out the very spark of life. But Neo-Veridian was not undefended.\n",
      "\n",
      "Below, where towering skyscrapers met the churning street-level chaos, the clash began. **Neon blasts met demonic roars**. Streaks of high-energy plasma, fired from automated turrets and desperate defenders, etched fiery lines against the polluted sky, only to be swallowed by the guttural howls of creatures with skin like charred leather and eyes like smoldering coals.\n",
      "\n",
      "Then, they moved. A colossal figure, armored in reinforced steel plating, charged into the thickest concentration of the horde. This was Titan. With a roar that echoed the city's defiant spirit, **Titan punched**. His gauntleted fist, charged with kinetic energy, met the chest of a hulking lesser demon, erupting in a concussive shockwave that splintered bone and sent fragments of black ichor showering across the devastated plaza. He was a force of nature, a living bulwark against the tide, his every blow a testament to brute, unyielding power.\n",
      "\n",
      "Beside him, moving with ethereal grace, was Aura. Where Titan crushed, she cleansed. A shimmering aura of pure, cerulean energy pulsed around her, radiating outwards. When the grotesque forms of the demons drew too close, it wasn't a physical blow that repelled them. **Aura purified**. Her light, cool and invigorating, touched their writhing flesh, and where it did, the ancient evil recoiled. Lesser demons shrieked as their forms dissolved into dissipating tendrils of smoke, their dark essence unable to withstand her luminous grace.\n",
      "\n",
      "The battle raged. **Hellish claws tore**, ripping through ferrocrete and mangling defensive units. **Dark energy flared**, projectiles of pure shadow arcing through the air, seeking to extinguish the lives of the last defenders. Titan met them head-on, absorbing blows that would shatter a lesser being, his resolve unwavering as he cleaved a path through the throng. Aura, meanwhile, wove through the chaos, her hands extended, creating shimmering barriers of light that deflected malevolent spells, her essence burning brighter with every demon she banished.\n",
      "\n",
      "Just when the tide threatened to overwhelm them, a colossal shadow descended, blotting out the already dim sky. A **winged demon lord howled**, its voice a symphony of despair and conquest, its bat-like wingspan casting a terrifying pall over the devastated cityscape. Its eyes, twin pits of infernal flame, locked onto the heroes below. It was ancient, a shard of the primordial evil, and it moved with the terrifying speed of a predator.\n",
      "\n",
      "It lunged at Titan, its claws the size of speeder bikes, intent on crushing him beneath its weight. But Titan met the charge, his legs braced, his cybernetic enhancements straining. With a guttural roar, he drove his fist upward, channeling every ounce of his being into one final, desperate strike. The blow connected with a sickening crunch that reverberated through the very foundations of the city. The demon lord’s head snapped back, a fissure appearing in its leathery skull. Aura, seeing her opening, unleashed a nova of pure light. The combined assault shattered the creature's will, its essence fracturing. With a final, ear-splitting shriek that tore at the fabric of reality, the **winged demon lord was crushed**, its titanic form collapsing into a cloud of ash and dissipating shadows.\n",
      "\n",
      "With the lord vanquished, the remaining horde faltered, their dark will broken. This was Aura's moment. She rose, bathed in a celestial glow, her arms outstretched. Her light swelled, no longer a mere defensive field, but a wave of absolute purity. It washed over the remaining demons, a blinding, benevolent tsunami. **Aura's blinding light cleansed the horde**. They didn't just die; they unmade, their corrupted forms unwinding into nothingness, leaving behind only the crisp scent of ozone and a newfound silence.\n",
      "\n",
      "The last of the shadows receded, leaving behind a scarred but breathing city. Amidst the rubble and the flickering neon, **the heroes stood**. Exhausted but unbroken, their forms silhouetted against the nascent dawn. Neo-Veridian was scarred, yes, but it still existed.\n",
      "\n",
      "The city was saved. For they were more than just warriors; they were the **Defenders of hope**, standing resolute against the eons-old tide of **ancient evil, consuming all life**. And so long as they stood, hope would never truly die.\n"
     ]
    }
   ],
   "source": [
    "print(result.messages[-1].content)"
   ]
  },
  {
   "cell_type": "code",
   "execution_count": 17,
   "id": "089501e3",
   "metadata": {},
   "outputs": [
    {
     "name": "stdout",
     "output_type": "stream",
     "text": [
      "---------- TextMessage (user) ----------\n",
      "Write an action story.\n",
      "---------- TextMessage (writer_agent) ----------\n",
      "Shadow-Blade moved, a blur against the hellfire glow. The Gorgon-beast lunged, its eyes burning with petrifying malice. He ducked a claw, spun, and his katana, wreathed in dark energy, severed a gnarled limb. The beast roared, lashing out with tendrils of shadow. Shadow-Blade plunged his blade deep into its pulsating heart. The demon exploded into dust and screams. Silence fell.\n",
      "---------- TextMessage (character_agent) ----------\n",
      "The silence was short-lived. From the same churning void that birthed the last assault, a new abomination descended. Its scales shimmered like polished obsidian, its multiple eyes glowed with an eerie, emerald light, and its serpentine body coiled with malevolent power. This was the Gorgon-beast, a creature of pure petrifying malice.\n",
      "\n",
      "Across the shattered plaza, a new figure materialized, a silhouette against the lingering hellfire glow. This was Shadow-Blade. No armored bulwark like Titan, no radiating beacon like Aura; he was a whisper of death, his movements precise and deadly. **Shadow-Blade moved, a blur against the hellfire glow**. His form was almost imperceptible, a ripple in the air, leaving only a faint afterimage as he closed the distance.\n",
      "\n",
      "The Gorgon-beast, sensing his approach, turned its multifaceted gaze. Its eyes, twin emerald furnaces, burned with a palpable, petrifying malice, threatening to turn flesh to stone. **The Gorgon-beast lunged**, its massive head darting forward, a set of wicked, crystalline fangs snapping at the air where Shadow-Blade had just been.\n",
      "\n",
      "But Shadow-Blade was already elsewhere. With a fluid, almost impossible motion, **he ducked a claw** that could have cleaved him in two, then **spun**, his form coiling like a viper. In his hand, a katana, its blade impossibly sharp, shimmered with an inky, preternatural luminescence. It was not mere steel; it was a conduit for the darkness he commanded. As he spun, **his katana, wreathed in dark energy, severed a gnarled limb** from the beast's side, a grotesque appendage that thrashed briefly before dissolving into corrupted vapor.\n",
      "\n",
      "The Gorgon-beast shrieked, a sound like grinding stone and splitting ice. **The beast roared, lashing out with tendrils of shadow** that whipped through the air, seeking to ensnare and crush. But Shadow-Blade was too fast, too elusive. He danced through the lethal onslaught, each movement a counterpoint to the beast's clumsy rage, an economical ballet of evasion and precision.\n",
      "\n",
      "Finally, seeing his moment, Shadow-Blade surged forward, a living arrow. He vaulted onto the beast's massive coiling body, ignoring the thrashing tentacles. His black armor seemed to absorb the ambient darkness, making him almost invisible against the creature's scales. With a grunt of exertion, **Shadow-Blade plunged his blade deep into its pulsating heart**. The dark energy around the katana flared, consuming the creature's core, unraveling its very existence from within.\n",
      "\n",
      "A final, ear-splitting shriek ripped through the air, a dying cry of ancient evil. The Gorgon-beast convulsed violently, its multiple eyes dimming, its serpentine body thrashing in its death throes. Then, with a concussive shockwave of dying power, **the demon exploded into dust and screams**, its physical form disintegrating into a cloud of fine, black ash that quickly dissipated in the wind.\n",
      "\n",
      "A heavy **silence fell** once more over the devastated city, broken only by the distant sounds of sirens and the settling of debris. Shadow-Blade stood amidst the dissipating dust, his katana dripping with the last vestiges of corrupted energy, his face impassive. The threat was neutralized. For now.\n",
      "---------- TextMessage (editor_agent) ----------\n",
      "The heavy silence that had fallen over Neo-Veridian after the last demon lord's demise was short-lived. A tremor rippled through the very air, not of earth, but of nascent dread. From the same churning void that had birthed the last assault, a new abomination descended. Its scales shimmered like polished obsidian, catching the residual hellfire glow with an unsettling gleam. Its multiple eyes glowed with an eerie, emerald light, and its serpentine body, thick as a battle tank, coiled with malevolent power. This was the Gorgon-beast, a creature of pure petrifying malice, its very presence a threat to flesh and sanity.\n",
      "\n",
      "Across the shattered plaza, amidst the smoldering debris and the skeletal remains of ravaged structures, a new figure materialized, a silhouette against the lingering hellfire glow. This was Shadow-Blade. No armored bulwark like Titan, no radiating beacon like Aura; he was a whisper of death, his movements precise and deadly. He was the shadow that struck back.\n",
      "\n",
      "**Shadow-Blade moved, a blur against the hellfire glow**. His form was almost imperceptible, a ripple in the air, leaving only a faint afterimage as he closed the distance. His black, streamlined armor seemed to drink in the ambient darkness, rendering him a ghost among the ruins, a silent hunter stalking its monstrous prey.\n",
      "\n",
      "The Gorgon-beast, sensing his approach despite his stealth, turned its grotesque, multifaceted gaze. Its eyes, twin emerald furnaces, burned with a palpable, petrifying malice, threatening to turn flesh to stone with a single, prolonged stare. With a hiss that grated like stone on stone, **the Gorgon-beast lunged**, its massive head darting forward, a set of wicked, crystalline fangs snapping at the air where Shadow-Blade had just been.\n",
      "\n",
      "But Shadow-Blade was already elsewhere. With a fluid, almost impossible motion, **he ducked a claw** that could have cleaved him in two, the air displaced by its swipe a testament to its brutal force. Then, he **spun**, his form coiling like a viper, transitioning from defense to offense in a single, seamless movement. In his hand, a katana, its blade impossibly sharp, shimmered with an inky, preternatural luminescence. It was not mere steel; it was a conduit for the darkness he commanded, a weapon forged in shadows and whispers. As he spun, his katana, **wreathed in dark energy, severed a gnarled limb** from the beast's side, a grotesque appendage that thrashed briefly on the ground before dissolving into corrupted vapor, leaving behind a wisp of putrid smoke.\n",
      "\n",
      "The Gorgon-beast shrieked, a sound like grinding stone and splitting ice, echoing its agony. **The beast roared, lashing out with tendrils of shadow** that whipped through the air like sentient whips, seeking to ensnare and crush, to drain the very life from him. But Shadow-Blade was too fast, too elusive. He danced through the lethal onslaught, each movement a counterpoint to the beast's clumsy rage, an economical ballet of evasion and precision. He was a master of his domain, weaving through the chaos, a dark wraith against a backdrop of infernal light.\n",
      "\n",
      "Finally, seeing his moment, a momentary lull in the beast's frantic assault, Shadow-Blade surged forward, a living arrow shot from the bow of vengeance. He vaulted onto the beast's massive coiling body, ignoring the thrashing tentacles and the shimmering scales that could turn lesser beings to stone. His black armor seemed to absorb the ambient darkness, making him almost invisible against the creature's obsidian hide. With a grunt of exertion, fueled by years of silent combat, **Shadow-Blade plunged his blade deep into its pulsating heart**. The dark energy around the katana flared, a silent, internal scream of power, consuming the creature's core, unraveling its very existence from within.\n",
      "\n",
      "A final, ear-splitting shriek ripped through the air, a dying cry of ancient evil, a sound of absolute despair. The Gorgon-beast convulsed violently, its multiple eyes dimming, its serpentine body thrashing in its death throes, sending shockwaves through the shattered plaza. Then, with a concussive blast of dying power, **the demon exploded into dust and screams**, its physical form disintegrating into a cloud of fine, black ash that quickly dissipated on the wind, leaving behind only the acrid scent of ozone.\n",
      "\n",
      "A heavy **silence fell** once more over the devastated city, broken only by the distant, mournful wail of sirens and the settling of debris. Shadow-Blade stood amidst the dissipating dust, his katana dripping with the last vestiges of corrupted energy, his face impassive, as if the battle had been but a minor skirmish. The threat was neutralized. For now.\n"
     ]
    },
    {
     "data": {
      "text/plain": [
       "TaskResult(messages=[TextMessage(id='13a4331e-c87b-4f3a-b18d-c79dd7a14790', source='user', models_usage=None, metadata={}, created_at=datetime.datetime(2025, 7, 24, 19, 7, 59, 936236, tzinfo=datetime.timezone.utc), content='Write an action story.', type='TextMessage'), TextMessage(id='22dd4f8f-e52b-4f32-8f02-430c2ec7be57', source='writer_agent', models_usage=RequestUsage(prompt_tokens=1093, completion_tokens=93), metadata={}, created_at=datetime.datetime(2025, 7, 24, 19, 8, 8, 683389, tzinfo=datetime.timezone.utc), content='Shadow-Blade moved, a blur against the hellfire glow. The Gorgon-beast lunged, its eyes burning with petrifying malice. He ducked a claw, spun, and his katana, wreathed in dark energy, severed a gnarled limb. The beast roared, lashing out with tendrils of shadow. Shadow-Blade plunged his blade deep into its pulsating heart. The demon exploded into dust and screams. Silence fell.', type='TextMessage'), TextMessage(id='d214822f-7716-4358-9905-a93aad45af65', source='character_agent', models_usage=RequestUsage(prompt_tokens=1193, completion_tokens=706), metadata={}, created_at=datetime.datetime(2025, 7, 24, 19, 8, 14, 459406, tzinfo=datetime.timezone.utc), content=\"The silence was short-lived. From the same churning void that birthed the last assault, a new abomination descended. Its scales shimmered like polished obsidian, its multiple eyes glowed with an eerie, emerald light, and its serpentine body coiled with malevolent power. This was the Gorgon-beast, a creature of pure petrifying malice.\\n\\nAcross the shattered plaza, a new figure materialized, a silhouette against the lingering hellfire glow. This was Shadow-Blade. No armored bulwark like Titan, no radiating beacon like Aura; he was a whisper of death, his movements precise and deadly. **Shadow-Blade moved, a blur against the hellfire glow**. His form was almost imperceptible, a ripple in the air, leaving only a faint afterimage as he closed the distance.\\n\\nThe Gorgon-beast, sensing his approach, turned its multifaceted gaze. Its eyes, twin emerald furnaces, burned with a palpable, petrifying malice, threatening to turn flesh to stone. **The Gorgon-beast lunged**, its massive head darting forward, a set of wicked, crystalline fangs snapping at the air where Shadow-Blade had just been.\\n\\nBut Shadow-Blade was already elsewhere. With a fluid, almost impossible motion, **he ducked a claw** that could have cleaved him in two, then **spun**, his form coiling like a viper. In his hand, a katana, its blade impossibly sharp, shimmered with an inky, preternatural luminescence. It was not mere steel; it was a conduit for the darkness he commanded. As he spun, **his katana, wreathed in dark energy, severed a gnarled limb** from the beast's side, a grotesque appendage that thrashed briefly before dissolving into corrupted vapor.\\n\\nThe Gorgon-beast shrieked, a sound like grinding stone and splitting ice. **The beast roared, lashing out with tendrils of shadow** that whipped through the air, seeking to ensnare and crush. But Shadow-Blade was too fast, too elusive. He danced through the lethal onslaught, each movement a counterpoint to the beast's clumsy rage, an economical ballet of evasion and precision.\\n\\nFinally, seeing his moment, Shadow-Blade surged forward, a living arrow. He vaulted onto the beast's massive coiling body, ignoring the thrashing tentacles. His black armor seemed to absorb the ambient darkness, making him almost invisible against the creature's scales. With a grunt of exertion, **Shadow-Blade plunged his blade deep into its pulsating heart**. The dark energy around the katana flared, consuming the creature's core, unraveling its very existence from within.\\n\\nA final, ear-splitting shriek ripped through the air, a dying cry of ancient evil. The Gorgon-beast convulsed violently, its multiple eyes dimming, its serpentine body thrashing in its death throes. Then, with a concussive shockwave of dying power, **the demon exploded into dust and screams**, its physical form disintegrating into a cloud of fine, black ash that quickly dissipated in the wind.\\n\\nA heavy **silence fell** once more over the devastated city, broken only by the distant sounds of sirens and the settling of debris. Shadow-Blade stood amidst the dissipating dust, his katana dripping with the last vestiges of corrupted energy, his face impassive. The threat was neutralized. For now.\", type='TextMessage'), TextMessage(id='9214e379-a736-44c9-a3a8-af061eea0130', source='editor_agent', models_usage=RequestUsage(prompt_tokens=1886, completion_tokens=1015), metadata={}, created_at=datetime.datetime(2025, 7, 24, 19, 8, 26, 573596, tzinfo=datetime.timezone.utc), content=\"The heavy silence that had fallen over Neo-Veridian after the last demon lord's demise was short-lived. A tremor rippled through the very air, not of earth, but of nascent dread. From the same churning void that had birthed the last assault, a new abomination descended. Its scales shimmered like polished obsidian, catching the residual hellfire glow with an unsettling gleam. Its multiple eyes glowed with an eerie, emerald light, and its serpentine body, thick as a battle tank, coiled with malevolent power. This was the Gorgon-beast, a creature of pure petrifying malice, its very presence a threat to flesh and sanity.\\n\\nAcross the shattered plaza, amidst the smoldering debris and the skeletal remains of ravaged structures, a new figure materialized, a silhouette against the lingering hellfire glow. This was Shadow-Blade. No armored bulwark like Titan, no radiating beacon like Aura; he was a whisper of death, his movements precise and deadly. He was the shadow that struck back.\\n\\n**Shadow-Blade moved, a blur against the hellfire glow**. His form was almost imperceptible, a ripple in the air, leaving only a faint afterimage as he closed the distance. His black, streamlined armor seemed to drink in the ambient darkness, rendering him a ghost among the ruins, a silent hunter stalking its monstrous prey.\\n\\nThe Gorgon-beast, sensing his approach despite his stealth, turned its grotesque, multifaceted gaze. Its eyes, twin emerald furnaces, burned with a palpable, petrifying malice, threatening to turn flesh to stone with a single, prolonged stare. With a hiss that grated like stone on stone, **the Gorgon-beast lunged**, its massive head darting forward, a set of wicked, crystalline fangs snapping at the air where Shadow-Blade had just been.\\n\\nBut Shadow-Blade was already elsewhere. With a fluid, almost impossible motion, **he ducked a claw** that could have cleaved him in two, the air displaced by its swipe a testament to its brutal force. Then, he **spun**, his form coiling like a viper, transitioning from defense to offense in a single, seamless movement. In his hand, a katana, its blade impossibly sharp, shimmered with an inky, preternatural luminescence. It was not mere steel; it was a conduit for the darkness he commanded, a weapon forged in shadows and whispers. As he spun, his katana, **wreathed in dark energy, severed a gnarled limb** from the beast's side, a grotesque appendage that thrashed briefly on the ground before dissolving into corrupted vapor, leaving behind a wisp of putrid smoke.\\n\\nThe Gorgon-beast shrieked, a sound like grinding stone and splitting ice, echoing its agony. **The beast roared, lashing out with tendrils of shadow** that whipped through the air like sentient whips, seeking to ensnare and crush, to drain the very life from him. But Shadow-Blade was too fast, too elusive. He danced through the lethal onslaught, each movement a counterpoint to the beast's clumsy rage, an economical ballet of evasion and precision. He was a master of his domain, weaving through the chaos, a dark wraith against a backdrop of infernal light.\\n\\nFinally, seeing his moment, a momentary lull in the beast's frantic assault, Shadow-Blade surged forward, a living arrow shot from the bow of vengeance. He vaulted onto the beast's massive coiling body, ignoring the thrashing tentacles and the shimmering scales that could turn lesser beings to stone. His black armor seemed to absorb the ambient darkness, making him almost invisible against the creature's obsidian hide. With a grunt of exertion, fueled by years of silent combat, **Shadow-Blade plunged his blade deep into its pulsating heart**. The dark energy around the katana flared, a silent, internal scream of power, consuming the creature's core, unraveling its very existence from within.\\n\\nA final, ear-splitting shriek ripped through the air, a dying cry of ancient evil, a sound of absolute despair. The Gorgon-beast convulsed violently, its multiple eyes dimming, its serpentine body thrashing in its death throes, sending shockwaves through the shattered plaza. Then, with a concussive blast of dying power, **the demon exploded into dust and screams**, its physical form disintegrating into a cloud of fine, black ash that quickly dissipated on the wind, leaving behind only the acrid scent of ozone.\\n\\nA heavy **silence fell** once more over the devastated city, broken only by the distant, mournful wail of sirens and the settling of debris. Shadow-Blade stood amidst the dissipating dust, his katana dripping with the last vestiges of corrupted energy, his face impassive, as if the battle had been but a minor skirmish. The threat was neutralized. For now.\", type='TextMessage')], stop_reason='Maximum number of turns 3 reached.')"
      ]
     },
     "execution_count": 17,
     "metadata": {},
     "output_type": "execute_result"
    }
   ],
   "source": [
    "from autogen_agentchat.ui import Console\n",
    "\n",
    "await Console(story_crew.run_stream(task = 'Write an action story.'))"
   ]
  },
  {
   "cell_type": "markdown",
   "id": "c10ba2de",
   "metadata": {},
   "source": [
    "#### Run the team again without a task to continue the previous task.   \n",
    "- result = await team.run() \n",
    "\n",
    "#### Reset the team\n",
    "- await team.reset() "
   ]
  }
 ],
 "metadata": {
  "kernelspec": {
   "display_name": "vir_env",
   "language": "python",
   "name": "python3"
  },
  "language_info": {
   "codemirror_mode": {
    "name": "ipython",
    "version": 3
   },
   "file_extension": ".py",
   "mimetype": "text/x-python",
   "name": "python",
   "nbconvert_exporter": "python",
   "pygments_lexer": "ipython3",
   "version": "3.12.10"
  }
 },
 "nbformat": 4,
 "nbformat_minor": 5
}
