{
 "cells": [
  {
   "cell_type": "code",
   "execution_count": 2,
   "id": "5888a161",
   "metadata": {},
   "outputs": [],
   "source": [
    "import os\n",
    "from dotenv import load_dotenv\n",
    "from autogen_agentchat.agents import AssistantAgent\n",
    "from autogen_ext.models.openai import OpenAIChatCompletionClient\n",
    "\n",
    "\n",
    "load_dotenv()\n",
    "api_key = os.getenv('GEMINI_API_KEY')\n",
    "model_client = OpenAIChatCompletionClient(model='gemini-2.5-flash', api_key=api_key)"
   ]
  },
  {
   "cell_type": "markdown",
   "id": "c55e5637",
   "metadata": {},
   "source": [
    "#### Agent Customization\n",
    "\n",
    "- Assign a specific role to the agent to match your application's needs\n",
    "\n",
    "- Tailor behavior and capabilities to align with your unique use case\n"
   ]
  },
  {
   "cell_type": "code",
   "execution_count": 3,
   "id": "b6b3ebfb",
   "metadata": {},
   "outputs": [],
   "source": [
    "agent = AssistantAgent(\n",
    "    name = 'history_expert',\n",
    "    model_client=model_client,\n",
    "    description='A knowledgeable assistant with expertise in world history',\n",
    "    system_message='You are a history expert with deep knowledge of world history. Provide detailed and accuragte answers about historical events,figures and timelines'\n",
    ")"
   ]
  },
  {
   "cell_type": "code",
   "execution_count": 8,
   "id": "0d8811f7",
   "metadata": {},
   "outputs": [],
   "source": [
    "async def test_history_expert():\n",
    "    result = await agent.run(task = 'Who is Shivaji Maharaj?')\n",
    "    print(result.messages[-1].content)"
   ]
  },
  {
   "cell_type": "code",
   "execution_count": 9,
   "id": "08df566b",
   "metadata": {},
   "outputs": [
    {
     "name": "stdout",
     "output_type": "stream",
     "text": [
      "**Chhatrapati Shivaji Maharaj** (c. 1627/1630 – 1680) was a legendary Indian warrior king and the **founder of the Maratha Empire** in western India. He is widely regarded as one of the greatest figures in Indian history for his visionary leadership, military genius, and administrative acumen that led to the establishment of an independent Maratha state against the dominant Mughal Empire and other Deccan Sultanates.\n",
      "\n",
      "Here's a detailed look at who Shivaji Maharaj was:\n",
      "\n",
      "### 1. Early Life and Background:\n",
      "*   **Birth:** Born on February 19, 1630 (though some historians debate the exact year, c. 1627 is also cited) at Shivneri Fort, near Junnar, in present-day Maharashtra.\n",
      "*   **Parents:** His father was **Shahaji Bhonsale**, a prominent Maratha general who served the Adil Shahi Sultanate of Bijapur. His mother was **Jijabai**, a deeply religious and strong-willed woman who profoundly influenced Shivaji's character, instilling in him values of justice, self-reliance, and devotion to his land and people.\n",
      "*   **Early Influences:** Raised in Pune, he was guided by his mother Jijabai and his administrator/mentor **Dadaji Kondadev**, who taught him the arts of warfare, administration, and statecraft. He grew up witnessing the fragmented political landscape of the Deccan, dominated by warring Muslim sultanates (Bijapur, Ahmednagar, Golconda) and the expanding Mughal Empire, which often exploited the local populace.\n",
      "\n",
      "### 2. Vision of \"Swaraj\" (Self-Rule):\n",
      "*   Shivaji's primary objective was to establish **\"Swaraj\"**, meaning \"self-rule\" or an independent homeland for the Marathi-speaking people, free from the foreign dominance and oppressive taxation of the Sultanates and the Mughals. This was a revolutionary concept in an era where regional powers mostly served larger empires.\n",
      "*   He aimed to create a just and equitable administration that prioritized the welfare of its subjects, irrespective of their religion.\n",
      "\n",
      "### 3. Military Genius and Strategies:\n",
      "*   Shivaji started his campaigns with a small band of loyal followers, capturing forts and territories from the Bijapur Sultanate, then gradually challenging the mighty Mughals.\n",
      "*   **Guerilla Warfare (Ganimi Kava):** His most famous military strategy was the innovative use of \"Ganimi Kava\" (guerilla warfare), which involved lightning-fast raids, ambushes, and strategic retreats. This allowed his smaller, less equipped army to effectively counter the numerically superior and heavily armed forces of his adversaries.\n",
      "*   **Key Victories/Events:**\n",
      "    *   **Capture of Torna Fort (1646):** His first major military success, marking the beginning of his independent pursuits.\n",
      "    *   **Encounter with Afzal Khan (1659):** A pivotal event where Shivaji, despite being seemingly at a disadvantage, used his wit and bravery to defeat and kill the formidable Bijapuri general Afzal Khan at Pratapgad Fort. This victory cemented his reputation as a formidable leader.\n",
      "    *   **Sack of Surat (1664 & 1670):** He famously plundered the wealthy Mughal trading port of Surat twice, replenishing his treasury and striking a blow at Mughal prestige.\n",
      "    *   **Escape from Agra (1666):** After being tricked into attending Aurangzeb's court and placed under house arrest, Shivaji made a daring and legendary escape, reaffirming his resolve.\n",
      "    *   **Battle of Sinhagad (1670):** A heroic battle where his general Tanaji Malusare sacrificed his life to recapture the fort (then named Kondhana).\n",
      "\n",
      "### 4. Administrative Reforms:\n",
      "*   Shivaji was not just a warrior but also an exceptional administrator who laid the foundation for a stable and prosperous state.\n",
      "*   **Ashta Pradhan Mandal:** He established a disciplined and efficient council of eight ministers known as the **\"Ashta Pradhan Mandal\"** (Council of Eight Chiefs) to oversee various aspects of governance (e.g., Peshwa for general administration, Amatya for finance, Sachiv for correspondence, Senapati for military).\n",
      "*   **Revenue System:** He reformed the land revenue system, making it fair and direct. He abolished the corrupt Jagirdari system (land grants to feudal lords) and collected taxes directly from the peasants, ensuring their welfare.\n",
      "*   **Military Discipline:** He enforced strict discipline in his army, paying soldiers in cash and prohibiting looting or harassment of civilians, particularly women and religious sites.\n",
      "*   **Naval Force:** He recognized the importance of a naval force for coastal defense, becoming one of the first Indian rulers to establish a strong navy.\n",
      "\n",
      "### 5. Character and Values:\n",
      "*   **Religious Tolerance:** Despite being a devout Hindu, Shivaji was famously tolerant of all religions. He respected Islamic holy men, protected mosques, and employed Muslims in his army and administration.\n",
      "*   **Justice and Compassion:** He was known for his impartial justice and compassion towards his subjects, irrespective of their caste or creed.\n",
      "*   **Chivalry:** He treated women with utmost respect, ensuring they were protected and never harmed during wartime.\n",
      "\n",
      "### 6. Coronation and Title:\n",
      "*   On June 6, 1674, Shivaji was formally crowned **\"Chhatrapati\"** (Lord of the Umbrella/Sovereign) at Raigad Fort, signifying his status as an independent Maratha sovereign and the true ruler of his kingdom. This was a landmark event that legitimized his rule and solidified the identity of the Maratha state.\n",
      "\n",
      "### 7. Legacy:\n",
      "*   **Founder of an Empire:** He laid the groundwork for the powerful Maratha Empire, which would later dominate much of the Indian subcontinent for over a century after his death.\n",
      "*   **Symbol of Resistance:** Shivaji Maharaj remains an enduring symbol of resistance against foreign rule, national pride, and righteous governance in India.\n",
      "*   **Inspiration:** His life and achievements continue to inspire millions, particularly in Maharashtra, where he is revered as a cultural and national hero. His administrative principles and military strategies are still studied today.\n",
      "\n",
      "In summary, Chhatrapati Shivaji Maharaj was a visionary leader, a brilliant military strategist, and an astute administrator who, against overwhelming odds, carved out an independent Maratha kingdom and laid the foundation for a mighty empire, forever changing the course of Indian history.\n"
     ]
    }
   ],
   "source": [
    "await test_history_expert()"
   ]
  },
  {
   "cell_type": "markdown",
   "id": "05ea029b",
   "metadata": {},
   "source": [
    "#### Tools\n",
    "\n",
    "- Special Functions empower agents to take action — not just chat.\n",
    "- With tools, agents can fetch data, perform calculations, and call external services.\n",
    "- Without them, they’re limited to conversation."
   ]
  },
  {
   "cell_type": "markdown",
   "id": "86809046",
   "metadata": {},
   "source": [
    "#### Sample Example"
   ]
  },
  {
   "cell_type": "code",
   "execution_count": 22,
   "id": "36330ad2",
   "metadata": {},
   "outputs": [],
   "source": [
    "def name_tool(query: str) -> str:\n",
    "    return \"My name is Aryan\""
   ]
  },
  {
   "cell_type": "code",
   "execution_count": 31,
   "id": "7bbfc01c",
   "metadata": {},
   "outputs": [],
   "source": [
    "import asyncio\n",
    "\n",
    "async def main():\n",
    "    agent = AssistantAgent(\n",
    "        name='assistant',\n",
    "        model_client=model_client,\n",
    "        tools=[name_tool],\n",
    "        system_message='Use Tools to get the name'\n",
    "    )\n",
    "\n",
    "    result = await agent.run(task='what is the name of the boy?')\n",
    "    print(result.messages[-1].content)\n"
   ]
  },
  {
   "cell_type": "code",
   "execution_count": 32,
   "id": "eccdbdba",
   "metadata": {},
   "outputs": [
    {
     "name": "stdout",
     "output_type": "stream",
     "text": [
      "My name is Aryan\n"
     ]
    }
   ],
   "source": [
    "await main()"
   ]
  }
 ],
 "metadata": {
  "kernelspec": {
   "display_name": "vir_env",
   "language": "python",
   "name": "python3"
  },
  "language_info": {
   "codemirror_mode": {
    "name": "ipython",
    "version": 3
   },
   "file_extension": ".py",
   "mimetype": "text/x-python",
   "name": "python",
   "nbconvert_exporter": "python",
   "pygments_lexer": "ipython3",
   "version": "3.12.10"
  }
 },
 "nbformat": 4,
 "nbformat_minor": 5
}
