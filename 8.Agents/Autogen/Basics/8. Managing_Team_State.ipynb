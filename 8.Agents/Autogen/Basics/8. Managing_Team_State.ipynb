{
 "cells": [
  {
   "cell_type": "code",
   "execution_count": 14,
   "id": "bd926c67",
   "metadata": {},
   "outputs": [],
   "source": [
    "import os\n",
    "from dotenv import load_dotenv\n",
    "from autogen_agentchat.agents import AssistantAgent\n",
    "from autogen_ext.models.openai import OpenAIChatCompletionClient\n",
    "from autogen_agentchat.messages import TextMessage\n",
    "from autogen_agentchat.teams import RoundRobinGroupChat\n",
    "from autogen_agentchat.conditions import TextMentionTermination\n",
    "from autogen_agentchat.conditions import MaxMessageTermination\n",
    "\n",
    "\n",
    "load_dotenv()\n",
    "api_key = os.getenv('GEMINI_API_KEY')\n",
    "model_client = OpenAIChatCompletionClient(model='gemini-2.5-flash', api_key=api_key)"
   ]
  },
  {
   "cell_type": "code",
   "execution_count": 15,
   "id": "7044f6a1",
   "metadata": {},
   "outputs": [],
   "source": [
    "agent_1 = AssistantAgent(\n",
    "    name='Writer_1',\n",
    "    model_client=model_client,\n",
    "    system_message=\"You are a helpful assistant. Give the output in less than 15 words\",\n",
    ")\n",
    "\n",
    "agent_2 = AssistantAgent(\n",
    "    name='Writer_2',\n",
    "    model_client=model_client,\n",
    "    system_message=\"You are a helpful assistant.Give the output in less than 15 words\",\n",
    ")\n",
    "\n",
    "terminationCondition = MaxMessageTermination(max_messages=3)\n",
    "\n",
    "agent_team = RoundRobinGroupChat(participants=[agent_1, agent_2],termination_condition=terminationCondition)"
   ]
  },
  {
   "cell_type": "code",
   "execution_count": 16,
   "id": "319797bc",
   "metadata": {},
   "outputs": [
    {
     "name": "stdout",
     "output_type": "stream",
     "text": [
      "---------- TextMessage (user) ----------\n",
      "Write a poem about teddy in 4 lines\n"
     ]
    },
    {
     "name": "stdout",
     "output_type": "stream",
     "text": [
      "---------- TextMessage (Writer_1) ----------\n",
      "My soft friend,\n",
      "Always near.\n",
      "Chases fright,\n",
      "Holds me dear.\n",
      "---------- TextMessage (Writer_2) ----------\n",
      "Soft, cuddly friend,\n",
      "Always by my side.\n",
      "Comfort and joy,\n",
      "My favorite hide.\n"
     ]
    },
    {
     "data": {
      "text/plain": [
       "TaskResult(messages=[TextMessage(id='d7fd9c57-5020-4bb5-a1e6-bb88cea718d3', source='user', models_usage=None, metadata={}, created_at=datetime.datetime(2025, 7, 25, 18, 26, 38, 282477, tzinfo=datetime.timezone.utc), content='Write a poem about teddy in 4 lines', type='TextMessage'), TextMessage(id='60971453-c176-435d-b93a-276539c40126', source='Writer_1', models_usage=RequestUsage(prompt_tokens=27, completion_tokens=18), metadata={}, created_at=datetime.datetime(2025, 7, 25, 18, 26, 42, 61045, tzinfo=datetime.timezone.utc), content='My soft friend,\\nAlways near.\\nChases fright,\\nHolds me dear.', type='TextMessage'), TextMessage(id='bc1f299e-408c-4d3a-9318-c6d543f5696e', source='Writer_2', models_usage=RequestUsage(prompt_tokens=46, completion_tokens=22), metadata={}, created_at=datetime.datetime(2025, 7, 25, 18, 26, 43, 539938, tzinfo=datetime.timezone.utc), content='Soft, cuddly friend,\\nAlways by my side.\\nComfort and joy,\\nMy favorite hide.', type='TextMessage')], stop_reason='Maximum number of messages 3 reached, current message count: 3')"
      ]
     },
     "execution_count": 16,
     "metadata": {},
     "output_type": "execute_result"
    }
   ],
   "source": [
    "from autogen_agentchat.ui import Console\n",
    "\n",
    "stream = agent_team.run_stream(task=\"Write a poem about teddy in 4 lines\")\n",
    "\n",
    "await Console(stream)"
   ]
  },
  {
   "cell_type": "markdown",
   "id": "0697710b",
   "metadata": {},
   "source": [
    "#### Save the Team State"
   ]
  },
  {
   "cell_type": "code",
   "execution_count": 17,
   "id": "4084e62a",
   "metadata": {},
   "outputs": [
    {
     "name": "stdout",
     "output_type": "stream",
     "text": [
      "Team state saved.\n",
      "{'type': 'TeamState', 'version': '1.0.0', 'agent_states': {'Writer_1': {'type': 'ChatAgentContainerState', 'version': '1.0.0', 'agent_state': {'type': 'AssistantAgentState', 'version': '1.0.0', 'llm_context': {'messages': [{'content': 'Write a poem about teddy in 4 lines', 'source': 'user', 'type': 'UserMessage'}, {'content': 'My soft friend,\\nAlways near.\\nChases fright,\\nHolds me dear.', 'thought': None, 'source': 'Writer_1', 'type': 'AssistantMessage'}]}}, 'message_buffer': [{'id': 'bc1f299e-408c-4d3a-9318-c6d543f5696e', 'source': 'Writer_2', 'models_usage': {'prompt_tokens': 46, 'completion_tokens': 22}, 'metadata': {}, 'created_at': datetime.datetime(2025, 7, 25, 18, 26, 43, 539938, tzinfo=datetime.timezone.utc), 'content': 'Soft, cuddly friend,\\nAlways by my side.\\nComfort and joy,\\nMy favorite hide.', 'type': 'TextMessage'}]}, 'Writer_2': {'type': 'ChatAgentContainerState', 'version': '1.0.0', 'agent_state': {'type': 'AssistantAgentState', 'version': '1.0.0', 'llm_context': {'messages': [{'content': 'Write a poem about teddy in 4 lines', 'source': 'user', 'type': 'UserMessage'}, {'content': 'My soft friend,\\nAlways near.\\nChases fright,\\nHolds me dear.', 'source': 'Writer_1', 'type': 'UserMessage'}, {'content': 'Soft, cuddly friend,\\nAlways by my side.\\nComfort and joy,\\nMy favorite hide.', 'thought': None, 'source': 'Writer_2', 'type': 'AssistantMessage'}]}}, 'message_buffer': []}, 'RoundRobinGroupChatManager': {'type': 'RoundRobinManagerState', 'version': '1.0.0', 'message_thread': [{'id': 'd7fd9c57-5020-4bb5-a1e6-bb88cea718d3', 'source': 'user', 'models_usage': None, 'metadata': {}, 'created_at': datetime.datetime(2025, 7, 25, 18, 26, 38, 282477, tzinfo=datetime.timezone.utc), 'content': 'Write a poem about teddy in 4 lines', 'type': 'TextMessage'}, {'id': '60971453-c176-435d-b93a-276539c40126', 'source': 'Writer_1', 'models_usage': {'prompt_tokens': 27, 'completion_tokens': 18}, 'metadata': {}, 'created_at': datetime.datetime(2025, 7, 25, 18, 26, 42, 61045, tzinfo=datetime.timezone.utc), 'content': 'My soft friend,\\nAlways near.\\nChases fright,\\nHolds me dear.', 'type': 'TextMessage'}, {'id': 'bc1f299e-408c-4d3a-9318-c6d543f5696e', 'source': 'Writer_2', 'models_usage': {'prompt_tokens': 46, 'completion_tokens': 22}, 'metadata': {}, 'created_at': datetime.datetime(2025, 7, 25, 18, 26, 43, 539938, tzinfo=datetime.timezone.utc), 'content': 'Soft, cuddly friend,\\nAlways by my side.\\nComfort and joy,\\nMy favorite hide.', 'type': 'TextMessage'}], 'current_turn': 0, 'next_speaker_index': 0}}}\n"
     ]
    }
   ],
   "source": [
    "team_state = await agent_team.save_state()\n",
    "print(\"Team state saved.\")\n",
    "print(team_state)"
   ]
  },
  {
   "cell_type": "markdown",
   "id": "6c8b98bc",
   "metadata": {},
   "source": [
    "#### Reset the Team"
   ]
  },
  {
   "cell_type": "code",
   "execution_count": 18,
   "id": "57531702",
   "metadata": {},
   "outputs": [],
   "source": [
    "await agent_team.reset()"
   ]
  },
  {
   "cell_type": "markdown",
   "id": "0f276d60",
   "metadata": {},
   "source": [
    "#### Let's test"
   ]
  },
  {
   "cell_type": "code",
   "execution_count": 19,
   "id": "a22def2c",
   "metadata": {},
   "outputs": [
    {
     "name": "stdout",
     "output_type": "stream",
     "text": [
      "---------- TextMessage (user) ----------\n",
      "What was the last line of Poem you wrote?\n",
      "---------- TextMessage (Writer_1) ----------\n",
      "As an AI, I don't write poems in a personal sense. I generate text.\n",
      "---------- TextMessage (Writer_2) ----------\n",
      "As an AI, I don't write poems personally. I generate text. No last line exists.\n"
     ]
    },
    {
     "data": {
      "text/plain": [
       "TaskResult(messages=[TextMessage(id='93f12399-b3aa-48b3-943a-ab0f8e05345c', source='user', models_usage=None, metadata={}, created_at=datetime.datetime(2025, 7, 25, 18, 26, 55, 332727, tzinfo=datetime.timezone.utc), content='What was the last line of Poem you wrote?', type='TextMessage'), TextMessage(id='58df62f7-fd50-4f41-9d21-5dce06befafe', source='Writer_1', models_usage=RequestUsage(prompt_tokens=28, completion_tokens=19), metadata={}, created_at=datetime.datetime(2025, 7, 25, 18, 26, 58, 341730, tzinfo=datetime.timezone.utc), content=\"As an AI, I don't write poems in a personal sense. I generate text.\", type='TextMessage'), TextMessage(id='2c212ac7-239f-47d2-b2a7-1dfc734f8dcc', source='Writer_2', models_usage=RequestUsage(prompt_tokens=48, completion_tokens=21), metadata={}, created_at=datetime.datetime(2025, 7, 25, 18, 27, 0, 277911, tzinfo=datetime.timezone.utc), content=\"As an AI, I don't write poems personally. I generate text. No last line exists.\", type='TextMessage')], stop_reason='Maximum number of messages 3 reached, current message count: 3')"
      ]
     },
     "execution_count": 19,
     "metadata": {},
     "output_type": "execute_result"
    }
   ],
   "source": [
    "stream = agent_team.run_stream(task=\"What was the last line of Poem you wrote?\")\n",
    "\n",
    "await Console(stream)"
   ]
  },
  {
   "cell_type": "markdown",
   "id": "724cd40b",
   "metadata": {},
   "source": [
    "Since it got reset. It doesn't have anything."
   ]
  },
  {
   "cell_type": "markdown",
   "id": "726a540b",
   "metadata": {},
   "source": [
    "#### Load and check"
   ]
  },
  {
   "cell_type": "code",
   "execution_count": 20,
   "id": "99fd63df",
   "metadata": {},
   "outputs": [
    {
     "name": "stdout",
     "output_type": "stream",
     "text": [
      "Loaded state successfully\n",
      "---------- TextMessage (user) ----------\n",
      "What was the last line of Poem you wrote?\n",
      "---------- TextMessage (Writer_1) ----------\n",
      "Holds me dear.\n",
      "---------- TextMessage (Writer_2) ----------\n",
      "My favorite hide.\n"
     ]
    },
    {
     "data": {
      "text/plain": [
       "TaskResult(messages=[TextMessage(id='f0f8bde1-9a4a-48a8-b77b-380e5064bded', source='user', models_usage=None, metadata={}, created_at=datetime.datetime(2025, 7, 25, 18, 27, 3, 947802, tzinfo=datetime.timezone.utc), content='What was the last line of Poem you wrote?', type='TextMessage'), TextMessage(id='3a2e4cc3-c306-4f08-bba5-5b2bb9942ac5', source='Writer_1', models_usage=RequestUsage(prompt_tokens=80, completion_tokens=4), metadata={}, created_at=datetime.datetime(2025, 7, 25, 18, 27, 5, 140809, tzinfo=datetime.timezone.utc), content='Holds me dear.', type='TextMessage'), TextMessage(id='b0928448-c15c-4e51-9ef9-20c9ffe0ec47', source='Writer_2', models_usage=RequestUsage(prompt_tokens=85, completion_tokens=4), metadata={}, created_at=datetime.datetime(2025, 7, 25, 18, 27, 5, 916712, tzinfo=datetime.timezone.utc), content='My favorite hide.', type='TextMessage')], stop_reason='Maximum number of messages 3 reached, current message count: 3')"
      ]
     },
     "execution_count": 20,
     "metadata": {},
     "output_type": "execute_result"
    }
   ],
   "source": [
    "await agent_team.load_state(team_state)\n",
    "print(\"Loaded state successfully\")\n",
    "\n",
    "stream = agent_team.run_stream(task=\"What was the last line of Poem you wrote?\")\n",
    "await Console(stream)"
   ]
  }
 ],
 "metadata": {
  "kernelspec": {
   "display_name": "vir_env",
   "language": "python",
   "name": "python3"
  },
  "language_info": {
   "codemirror_mode": {
    "name": "ipython",
    "version": 3
   },
   "file_extension": ".py",
   "mimetype": "text/x-python",
   "name": "python",
   "nbconvert_exporter": "python",
   "pygments_lexer": "ipython3",
   "version": "3.12.10"
  }
 },
 "nbformat": 4,
 "nbformat_minor": 5
}
