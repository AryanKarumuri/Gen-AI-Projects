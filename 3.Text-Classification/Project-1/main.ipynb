{
 "cells": [
  {
   "cell_type": "code",
   "execution_count": 1,
   "id": "e777b427-8ed2-4214-b79c-294cd2d90356",
   "metadata": {},
   "outputs": [],
   "source": [
    "from transformers import pipeline"
   ]
  },
  {
   "cell_type": "code",
   "execution_count": 2,
   "id": "f611fa4a-1b79-44b0-a94d-1f43a4f4560c",
   "metadata": {},
   "outputs": [
    {
     "name": "stderr",
     "output_type": "stream",
     "text": [
      "No model was supplied, defaulted to distilbert/distilbert-base-uncased-finetuned-sst-2-english and revision af0f99b (https://huggingface.co/distilbert/distilbert-base-uncased-finetuned-sst-2-english).\n",
      "Using a pipeline without specifying a model name and revision in production is not recommended.\n",
      "/home/u5c2dbc0bf2849dd5288e3311262c709/.local/lib/python3.10/site-packages/huggingface_hub/file_download.py:797: FutureWarning: `resume_download` is deprecated and will be removed in version 1.0.0. Downloads always resume when possible. If you want to force a new download, use `force_download=True`.\n",
      "  warnings.warn(\n"
     ]
    }
   ],
   "source": [
    "classifier = pipeline(\"sentiment-analysis\")\n"
   ]
  },
  {
   "cell_type": "code",
   "execution_count": 3,
   "id": "a056a06a-66a7-4e9b-aaec-1d0bfe2228f2",
   "metadata": {},
   "outputs": [
    {
     "name": "stdout",
     "output_type": "stream",
     "text": [
      "[{'label': 'POSITIVE', 'score': 0.9998714923858643}]\n",
      "[{'label': 'NEGATIVE', 'score': 0.9984042048454285}]\n"
     ]
    }
   ],
   "source": [
    "def prediction(sentence):\n",
    "    answer = classifier(sentence)\n",
    "    result = answer[0]['label']\n",
    "    return result\n",
    "\n",
    "# To check the label and score\n",
    "print(classifier(\"I love the movie\"))\n",
    "print(classifier(\"I hate chocolate\"))"
   ]
  },
  {
   "cell_type": "code",
   "execution_count": 4,
   "id": "9831ac9c-6944-47bc-9568-b4e52b4ee21b",
   "metadata": {},
   "outputs": [
    {
     "name": "stdout",
     "output_type": "stream",
     "text": [
      "\"I love the movie.\" sentiment: Positive\n",
      "\"The service at the restaurant was awful.\" sentiment: Negative\n",
      "\"I'm frustrated with the way things are going at work.\" sentiment: Negative\n",
      "\"The worst kind of loss is the one you never saw coming, and the one that leaves no mark on the surface.\" sentiment: Negative\n",
      "\"The quiet satisfaction of knowing you did your best is more valuable than any praise could ever be.\" sentiment: Positive\n",
      "\"Sometimes, the smallest gestures make the biggest impact, and I'm lucky enough to witness them more often than I expected.\" sentiment: Positive\n",
      "\"I’ve realized that waiting for things to improve can sometimes feel like standing still in a moving crowd.\" sentiment: Negative\n",
      "\"It’s rare to find a day where everything aligns so perfectly, but when it happens, it’s nothing short of magic.\" sentiment: Positive\n"
     ]
    }
   ],
   "source": [
    "sample_texts=( \"I love the movie.\",\n",
    "              \"The service at the restaurant was awful.\",\n",
    "              \"I'm frustrated with the way things are going at work.\",\n",
    "              \"The worst kind of loss is the one you never saw coming, and the one that leaves no mark on the surface.\",\n",
    "              \"The quiet satisfaction of knowing you did your best is more valuable than any praise could ever be.\",\n",
    "              \"Sometimes, the smallest gestures make the biggest impact, and I'm lucky enough to witness them more often than I expected.\",\n",
    "              \"I’ve realized that waiting for things to improve can sometimes feel like standing still in a moving crowd.\",\n",
    "              \"It’s rare to find a day where everything aligns so perfectly, but when it happens, it’s nothing short of magic.\"\n",
    "             )\n",
    "\n",
    "for text in sample_texts:\n",
    "    sentimental_label = prediction(text)\n",
    "    if sentimental_label == 'POSITIVE':\n",
    "        print(f'\"{text}\" sentiment: Positive')\n",
    "    else:\n",
    "        print(f'\"{text}\" sentiment: Negative')"
   ]
  },
  {
   "cell_type": "code",
   "execution_count": null,
   "id": "ee156e4b-ccac-4acb-bbae-dd8f9fe24222",
   "metadata": {},
   "outputs": [],
   "source": []
  }
 ],
 "metadata": {
  "kernelspec": {
   "display_name": "exp_ve",
   "language": "python",
   "name": "exp_ve"
  },
  "language_info": {
   "codemirror_mode": {
    "name": "ipython",
    "version": 3
   },
   "file_extension": ".py",
   "mimetype": "text/x-python",
   "name": "python",
   "nbconvert_exporter": "python",
   "pygments_lexer": "ipython3",
   "version": "3.10.12"
  }
 },
 "nbformat": 4,
 "nbformat_minor": 5
}
